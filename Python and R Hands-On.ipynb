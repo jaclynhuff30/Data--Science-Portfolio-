{
 "cells": [
  {
   "cell_type": "markdown",
   "id": "7026f1af-d73e-44c9-9cc5-5fecbbdfbb7a",
   "metadata": {
    "tags": []
   },
   "source": [
    "# Part I: Transforming Data in Python"
   ]
  },
  {
   "cell_type": "markdown",
   "id": "607d9c0d-2380-441b-ac5d-aa984f7e4fd3",
   "metadata": {},
   "source": [
    "## Import Packages "
   ]
  },
  {
   "cell_type": "code",
   "execution_count": 1,
   "id": "c448210a-9415-4359-8aa5-23abb861a2b6",
   "metadata": {},
   "outputs": [],
   "source": [
    "import pandas as pd\n",
    "import numpy as np\n",
    "import seaborn as sns"
   ]
  },
  {
   "cell_type": "markdown",
   "id": "ae16d443-ffd4-404b-8179-336baff37cda",
   "metadata": {},
   "source": [
    "## Load in Data"
   ]
  },
  {
   "cell_type": "code",
   "execution_count": 2,
   "id": "0fe9cb83-adef-4c5e-9d39-9e93516e78cb",
   "metadata": {},
   "outputs": [],
   "source": [
    "Seattle_ParksnRec = pd.read_csv(\"//Users/jaclynhuff/Desktop/Seattle_ParksnRec.csv\")"
   ]
  },
  {
   "cell_type": "code",
   "execution_count": 3,
   "id": "fae8195b-cb02-4bf2-b585-a53ec19ef35c",
   "metadata": {},
   "outputs": [
    {
     "data": {
      "text/html": [
       "<div>\n",
       "<style scoped>\n",
       "    .dataframe tbody tr th:only-of-type {\n",
       "        vertical-align: middle;\n",
       "    }\n",
       "\n",
       "    .dataframe tbody tr th {\n",
       "        vertical-align: top;\n",
       "    }\n",
       "\n",
       "    .dataframe thead th {\n",
       "        text-align: right;\n",
       "    }\n",
       "</style>\n",
       "<table border=\"1\" class=\"dataframe\">\n",
       "  <thead>\n",
       "    <tr style=\"text-align: right;\">\n",
       "      <th></th>\n",
       "      <th>Geographic Region</th>\n",
       "      <th>Year</th>\n",
       "      <th># of trips Winter</th>\n",
       "      <th># of participants Winter</th>\n",
       "      <th># of trips Spring</th>\n",
       "      <th># of participants Spring</th>\n",
       "      <th># of trips Summer</th>\n",
       "      <th># of participants Summer</th>\n",
       "      <th># of trips Fall</th>\n",
       "      <th># of participants Fall</th>\n",
       "      <th># of trips per year</th>\n",
       "      <th># participants per year</th>\n",
       "      <th>increase/decrease of prior year</th>\n",
       "      <th>Average # people per trip</th>\n",
       "    </tr>\n",
       "  </thead>\n",
       "  <tbody>\n",
       "    <tr>\n",
       "      <th>0</th>\n",
       "      <td>Central</td>\n",
       "      <td>2005</td>\n",
       "      <td>13</td>\n",
       "      <td>154</td>\n",
       "      <td>18</td>\n",
       "      <td>290</td>\n",
       "      <td>20</td>\n",
       "      <td>267</td>\n",
       "      <td>16</td>\n",
       "      <td>245</td>\n",
       "      <td>67</td>\n",
       "      <td>956</td>\n",
       "      <td>0.00</td>\n",
       "      <td>11.85</td>\n",
       "    </tr>\n",
       "    <tr>\n",
       "      <th>1</th>\n",
       "      <td>Central</td>\n",
       "      <td>2006</td>\n",
       "      <td>17</td>\n",
       "      <td>229</td>\n",
       "      <td>16</td>\n",
       "      <td>227</td>\n",
       "      <td>19</td>\n",
       "      <td>265</td>\n",
       "      <td>16</td>\n",
       "      <td>280</td>\n",
       "      <td>68</td>\n",
       "      <td>1001</td>\n",
       "      <td>4.71</td>\n",
       "      <td>13.47</td>\n",
       "    </tr>\n",
       "    <tr>\n",
       "      <th>2</th>\n",
       "      <td>Central</td>\n",
       "      <td>2007</td>\n",
       "      <td>17</td>\n",
       "      <td>222</td>\n",
       "      <td>15</td>\n",
       "      <td>244</td>\n",
       "      <td>13</td>\n",
       "      <td>199</td>\n",
       "      <td>17</td>\n",
       "      <td>261</td>\n",
       "      <td>62</td>\n",
       "      <td>926</td>\n",
       "      <td>-7.49</td>\n",
       "      <td>13.06</td>\n",
       "    </tr>\n",
       "    <tr>\n",
       "      <th>3</th>\n",
       "      <td>Central</td>\n",
       "      <td>2008</td>\n",
       "      <td>18</td>\n",
       "      <td>300</td>\n",
       "      <td>19</td>\n",
       "      <td>335</td>\n",
       "      <td>20</td>\n",
       "      <td>283</td>\n",
       "      <td>18</td>\n",
       "      <td>293</td>\n",
       "      <td>75</td>\n",
       "      <td>1211</td>\n",
       "      <td>30.78</td>\n",
       "      <td>16.67</td>\n",
       "    </tr>\n",
       "    <tr>\n",
       "      <th>4</th>\n",
       "      <td>Central</td>\n",
       "      <td>2009</td>\n",
       "      <td>18</td>\n",
       "      <td>276</td>\n",
       "      <td>23</td>\n",
       "      <td>302</td>\n",
       "      <td>25</td>\n",
       "      <td>368</td>\n",
       "      <td>28</td>\n",
       "      <td>426</td>\n",
       "      <td>94</td>\n",
       "      <td>1372</td>\n",
       "      <td>13.29</td>\n",
       "      <td>15.33</td>\n",
       "    </tr>\n",
       "  </tbody>\n",
       "</table>\n",
       "</div>"
      ],
      "text/plain": [
       "  Geographic Region  Year  # of trips Winter  # of participants Winter  \\\n",
       "0           Central  2005                 13                       154   \n",
       "1           Central  2006                 17                       229   \n",
       "2           Central  2007                 17                       222   \n",
       "3           Central  2008                 18                       300   \n",
       "4           Central  2009                 18                       276   \n",
       "\n",
       "   # of trips Spring  # of participants Spring  # of trips Summer  \\\n",
       "0                 18                       290                 20   \n",
       "1                 16                       227                 19   \n",
       "2                 15                       244                 13   \n",
       "3                 19                       335                 20   \n",
       "4                 23                       302                 25   \n",
       "\n",
       "   # of participants Summer  # of trips Fall  # of participants Fall  \\\n",
       "0                       267               16                     245   \n",
       "1                       265               16                     280   \n",
       "2                       199               17                     261   \n",
       "3                       283               18                     293   \n",
       "4                       368               28                     426   \n",
       "\n",
       "   # of trips per year  # participants per year  \\\n",
       "0                   67                      956   \n",
       "1                   68                     1001   \n",
       "2                   62                      926   \n",
       "3                   75                     1211   \n",
       "4                   94                     1372   \n",
       "\n",
       "   increase/decrease of prior year  Average # people per trip  \n",
       "0                             0.00                      11.85  \n",
       "1                             4.71                      13.47  \n",
       "2                            -7.49                      13.06  \n",
       "3                            30.78                      16.67  \n",
       "4                            13.29                      15.33  "
      ]
     },
     "execution_count": 3,
     "metadata": {},
     "output_type": "execute_result"
    }
   ],
   "source": [
    "Seattle_ParksnRec.head()"
   ]
  },
  {
   "cell_type": "code",
   "execution_count": 14,
   "id": "da56ed10-bbb9-44de-8a20-a22763acbb03",
   "metadata": {},
   "outputs": [
    {
     "data": {
      "text/plain": [
       "<AxesSubplot:>"
      ]
     },
     "execution_count": 14,
     "metadata": {},
     "output_type": "execute_result"
    },
    {
     "data": {
      "image/png": "[encoded data removed]",
      "text/plain": [
       "<Figure size 432x288 with 1 Axes>"
      ]
     },
     "metadata": {
      "needs_background": "light"
     },
     "output_type": "display_data"
    }
   ],
   "source": [
    "Seattle_ParksnRec['# of trips Winter'].hist()"
   ]
  },
  {
   "cell_type": "code",
   "execution_count": 26,
   "id": "00c2d852-8d29-4a20-a633-8e9b6797082e",
   "metadata": {},
   "outputs": [
    {
     "name": "stderr",
     "output_type": "stream",
     "text": [
      "/usr/local/Cellar/jupyterlab/3.3.2/libexec/lib/python3.9/site-packages/seaborn/distributions.py:2619: FutureWarning: `distplot` is a deprecated function and will be removed in a future version. Please adapt your code to use either `displot` (a figure-level function with similar flexibility) or `histplot` (an axes-level function for histograms).\n",
      "  warnings.warn(msg, FutureWarning)\n"
     ]
    },
    {
     "data": {
      "text/plain": [
       "<AxesSubplot:ylabel='Density'>"
      ]
     },
     "execution_count": 26,
     "metadata": {},
     "output_type": "execute_result"
    },
    {
     "data": {
      "image/png": "[encoded data removed]",
      "text/plain": [
       "<Figure size 432x288 with 1 Axes>"
      ]
     },
     "metadata": {
      "needs_background": "light"
     },
     "output_type": "display_data"
    }
   ],
   "source": [
    "sns.distplot(Seattle_ParksnRec[[\"# of trips Winter\"]])"
   ]
  },
  {
   "cell_type": "markdown",
   "id": "e3f92224-a836-4c1e-a607-dd89eb254080",
   "metadata": {},
   "source": [
    "# Transforming Positively Skewed Data"
   ]
  },
  {
   "cell_type": "code",
   "execution_count": 15,
   "id": "0decd90b-8024-4d3d-ab08-b53bf88662b4",
   "metadata": {},
   "outputs": [
    {
     "data": {
      "text/plain": [
       "<AxesSubplot:>"
      ]
     },
     "execution_count": 15,
     "metadata": {},
     "output_type": "execute_result"
    },
    {
     "data": {
      "image/png": "[encoded data removed]",
      "text/plain": [
       "<Figure size 432x288 with 1 Axes>"
      ]
     },
     "metadata": {
      "needs_background": "light"
     },
     "output_type": "display_data"
    }
   ],
   "source": [
    "Seattle_ParksnRec['# of participants Winter'].hist()"
   ]
  },
  {
   "cell_type": "markdown",
   "id": "c7ccdadc-45db-4209-a11c-0b2d0e327196",
   "metadata": {},
   "source": [
    "## Using np.sqrt()"
   ]
  },
  {
   "cell_type": "code",
   "execution_count": 23,
   "id": "2296206f-96ca-4550-9435-405c1546ceb5",
   "metadata": {},
   "outputs": [],
   "source": [
    "Seattle_ParksnRec['# of participants WinterSQRT'] = np.sqrt(Seattle_ParksnRec['# of participants Winter'])"
   ]
  },
  {
   "cell_type": "code",
   "execution_count": 21,
   "id": "6342e087-52c1-4f3e-9e44-f5ce81e8560f",
   "metadata": {},
   "outputs": [
    {
     "data": {
      "text/html": [
       "<div>\n",
       "<style scoped>\n",
       "    .dataframe tbody tr th:only-of-type {\n",
       "        vertical-align: middle;\n",
       "    }\n",
       "\n",
       "    .dataframe tbody tr th {\n",
       "        vertical-align: top;\n",
       "    }\n",
       "\n",
       "    .dataframe thead th {\n",
       "        text-align: right;\n",
       "    }\n",
       "</style>\n",
       "<table border=\"1\" class=\"dataframe\">\n",
       "  <thead>\n",
       "    <tr style=\"text-align: right;\">\n",
       "      <th></th>\n",
       "      <th>Geographic Region</th>\n",
       "      <th>Year</th>\n",
       "      <th># of trips Winter</th>\n",
       "      <th># of participants Winter</th>\n",
       "      <th># of trips Spring</th>\n",
       "      <th># of participants Spring</th>\n",
       "      <th># of trips Summer</th>\n",
       "      <th># of participants Summer</th>\n",
       "      <th># of trips Fall</th>\n",
       "      <th># of participants Fall</th>\n",
       "      <th># of trips per year</th>\n",
       "      <th># participants per year</th>\n",
       "      <th>increase/decrease of prior year</th>\n",
       "      <th>Average # people per trip</th>\n",
       "      <th># of participants WinterSQRT</th>\n",
       "      <th># of participants Winter_bySQRT</th>\n",
       "    </tr>\n",
       "  </thead>\n",
       "  <tbody>\n",
       "    <tr>\n",
       "      <th>0</th>\n",
       "      <td>Central</td>\n",
       "      <td>2005</td>\n",
       "      <td>13</td>\n",
       "      <td>154</td>\n",
       "      <td>18</td>\n",
       "      <td>290</td>\n",
       "      <td>20</td>\n",
       "      <td>267</td>\n",
       "      <td>16</td>\n",
       "      <td>245</td>\n",
       "      <td>67</td>\n",
       "      <td>956</td>\n",
       "      <td>0.00</td>\n",
       "      <td>11.85</td>\n",
       "      <td>12.409674</td>\n",
       "      <td>12.409674</td>\n",
       "    </tr>\n",
       "    <tr>\n",
       "      <th>1</th>\n",
       "      <td>Central</td>\n",
       "      <td>2006</td>\n",
       "      <td>17</td>\n",
       "      <td>229</td>\n",
       "      <td>16</td>\n",
       "      <td>227</td>\n",
       "      <td>19</td>\n",
       "      <td>265</td>\n",
       "      <td>16</td>\n",
       "      <td>280</td>\n",
       "      <td>68</td>\n",
       "      <td>1001</td>\n",
       "      <td>4.71</td>\n",
       "      <td>13.47</td>\n",
       "      <td>15.132746</td>\n",
       "      <td>15.132746</td>\n",
       "    </tr>\n",
       "    <tr>\n",
       "      <th>2</th>\n",
       "      <td>Central</td>\n",
       "      <td>2007</td>\n",
       "      <td>17</td>\n",
       "      <td>222</td>\n",
       "      <td>15</td>\n",
       "      <td>244</td>\n",
       "      <td>13</td>\n",
       "      <td>199</td>\n",
       "      <td>17</td>\n",
       "      <td>261</td>\n",
       "      <td>62</td>\n",
       "      <td>926</td>\n",
       "      <td>-7.49</td>\n",
       "      <td>13.06</td>\n",
       "      <td>14.899664</td>\n",
       "      <td>14.899664</td>\n",
       "    </tr>\n",
       "    <tr>\n",
       "      <th>3</th>\n",
       "      <td>Central</td>\n",
       "      <td>2008</td>\n",
       "      <td>18</td>\n",
       "      <td>300</td>\n",
       "      <td>19</td>\n",
       "      <td>335</td>\n",
       "      <td>20</td>\n",
       "      <td>283</td>\n",
       "      <td>18</td>\n",
       "      <td>293</td>\n",
       "      <td>75</td>\n",
       "      <td>1211</td>\n",
       "      <td>30.78</td>\n",
       "      <td>16.67</td>\n",
       "      <td>17.320508</td>\n",
       "      <td>17.320508</td>\n",
       "    </tr>\n",
       "    <tr>\n",
       "      <th>4</th>\n",
       "      <td>Central</td>\n",
       "      <td>2009</td>\n",
       "      <td>18</td>\n",
       "      <td>276</td>\n",
       "      <td>23</td>\n",
       "      <td>302</td>\n",
       "      <td>25</td>\n",
       "      <td>368</td>\n",
       "      <td>28</td>\n",
       "      <td>426</td>\n",
       "      <td>94</td>\n",
       "      <td>1372</td>\n",
       "      <td>13.29</td>\n",
       "      <td>15.33</td>\n",
       "      <td>16.613248</td>\n",
       "      <td>16.613248</td>\n",
       "    </tr>\n",
       "  </tbody>\n",
       "</table>\n",
       "</div>"
      ],
      "text/plain": [
       "  Geographic Region  Year  # of trips Winter  # of participants Winter  \\\n",
       "0           Central  2005                 13                       154   \n",
       "1           Central  2006                 17                       229   \n",
       "2           Central  2007                 17                       222   \n",
       "3           Central  2008                 18                       300   \n",
       "4           Central  2009                 18                       276   \n",
       "\n",
       "   # of trips Spring  # of participants Spring  # of trips Summer  \\\n",
       "0                 18                       290                 20   \n",
       "1                 16                       227                 19   \n",
       "2                 15                       244                 13   \n",
       "3                 19                       335                 20   \n",
       "4                 23                       302                 25   \n",
       "\n",
       "   # of participants Summer  # of trips Fall  # of participants Fall  \\\n",
       "0                       267               16                     245   \n",
       "1                       265               16                     280   \n",
       "2                       199               17                     261   \n",
       "3                       283               18                     293   \n",
       "4                       368               28                     426   \n",
       "\n",
       "   # of trips per year  # participants per year  \\\n",
       "0                   67                      956   \n",
       "1                   68                     1001   \n",
       "2                   62                      926   \n",
       "3                   75                     1211   \n",
       "4                   94                     1372   \n",
       "\n",
       "   increase/decrease of prior year  Average # people per trip  \\\n",
       "0                             0.00                      11.85   \n",
       "1                             4.71                      13.47   \n",
       "2                            -7.49                      13.06   \n",
       "3                            30.78                      16.67   \n",
       "4                            13.29                      15.33   \n",
       "\n",
       "   # of participants WinterSQRT  # of participants Winter_bySQRT  \n",
       "0                     12.409674                        12.409674  \n",
       "1                     15.132746                        15.132746  \n",
       "2                     14.899664                        14.899664  \n",
       "3                     17.320508                        17.320508  \n",
       "4                     16.613248                        16.613248  "
      ]
     },
     "execution_count": 21,
     "metadata": {},
     "output_type": "execute_result"
    }
   ],
   "source": [
    "Seattle_ParksnRec.head()"
   ]
  },
  {
   "cell_type": "code",
   "execution_count": 27,
   "id": "1cf955ed-ed9b-465b-b321-15d98ffa7e61",
   "metadata": {},
   "outputs": [
    {
     "name": "stderr",
     "output_type": "stream",
     "text": [
      "/usr/local/Cellar/jupyterlab/3.3.2/libexec/lib/python3.9/site-packages/seaborn/distributions.py:2619: FutureWarning: `distplot` is a deprecated function and will be removed in a future version. Please adapt your code to use either `displot` (a figure-level function with similar flexibility) or `histplot` (an axes-level function for histograms).\n",
      "  warnings.warn(msg, FutureWarning)\n"
     ]
    },
    {
     "data": {
      "text/plain": [
       "<AxesSubplot:ylabel='Density'>"
      ]
     },
     "execution_count": 27,
     "metadata": {},
     "output_type": "execute_result"
    },
    {
     "data": {
      "image/png": "[encoded data removed]",
      "text/plain": [
       "<Figure size 432x288 with 1 Axes>"
      ]
     },
     "metadata": {
      "needs_background": "light"
     },
     "output_type": "display_data"
    }
   ],
   "source": [
    "sns.distplot(Seattle_ParksnRec[[\"# of participants WinterSQRT\"]])"
   ]
  },
  {
   "cell_type": "markdown",
   "id": "36a157fe-48a0-4404-9b18-c3027f244c37",
   "metadata": {},
   "source": [
    "## Using np.log()"
   ]
  },
  {
   "cell_type": "code",
   "execution_count": 32,
   "id": "e7a96d9d-152a-4957-9f1e-f361c130ab89",
   "metadata": {},
   "outputs": [],
   "source": [
    "Seattle_ParksnRec['# # of trips SpringLOG'] = np.log(Seattle_ParksnRec['# of trips Spring'])"
   ]
  },
  {
   "cell_type": "code",
   "execution_count": 30,
   "id": "34b9ffa3-08b5-4869-9387-84b62bce11ff",
   "metadata": {},
   "outputs": [
    {
     "data": {
      "text/html": [
       "<div>\n",
       "<style scoped>\n",
       "    .dataframe tbody tr th:only-of-type {\n",
       "        vertical-align: middle;\n",
       "    }\n",
       "\n",
       "    .dataframe tbody tr th {\n",
       "        vertical-align: top;\n",
       "    }\n",
       "\n",
       "    .dataframe thead th {\n",
       "        text-align: right;\n",
       "    }\n",
       "</style>\n",
       "<table border=\"1\" class=\"dataframe\">\n",
       "  <thead>\n",
       "    <tr style=\"text-align: right;\">\n",
       "      <th></th>\n",
       "      <th>Geographic Region</th>\n",
       "      <th>Year</th>\n",
       "      <th># of trips Winter</th>\n",
       "      <th># of participants Winter</th>\n",
       "      <th># of trips Spring</th>\n",
       "      <th># of participants Spring</th>\n",
       "      <th># of trips Summer</th>\n",
       "      <th># of participants Summer</th>\n",
       "      <th># of trips Fall</th>\n",
       "      <th># of participants Fall</th>\n",
       "      <th># of trips per year</th>\n",
       "      <th># participants per year</th>\n",
       "      <th>increase/decrease of prior year</th>\n",
       "      <th>Average # people per trip</th>\n",
       "      <th># of participants WinterSQRT</th>\n",
       "      <th># of participants Winter_bySQRT</th>\n",
       "      <th># of trips SpringLOG</th>\n",
       "    </tr>\n",
       "  </thead>\n",
       "  <tbody>\n",
       "    <tr>\n",
       "      <th>0</th>\n",
       "      <td>Central</td>\n",
       "      <td>2005</td>\n",
       "      <td>13</td>\n",
       "      <td>154</td>\n",
       "      <td>18</td>\n",
       "      <td>290</td>\n",
       "      <td>20</td>\n",
       "      <td>267</td>\n",
       "      <td>16</td>\n",
       "      <td>245</td>\n",
       "      <td>67</td>\n",
       "      <td>956</td>\n",
       "      <td>0.00</td>\n",
       "      <td>11.85</td>\n",
       "      <td>12.409674</td>\n",
       "      <td>12.409674</td>\n",
       "      <td>2.890372</td>\n",
       "    </tr>\n",
       "    <tr>\n",
       "      <th>1</th>\n",
       "      <td>Central</td>\n",
       "      <td>2006</td>\n",
       "      <td>17</td>\n",
       "      <td>229</td>\n",
       "      <td>16</td>\n",
       "      <td>227</td>\n",
       "      <td>19</td>\n",
       "      <td>265</td>\n",
       "      <td>16</td>\n",
       "      <td>280</td>\n",
       "      <td>68</td>\n",
       "      <td>1001</td>\n",
       "      <td>4.71</td>\n",
       "      <td>13.47</td>\n",
       "      <td>15.132746</td>\n",
       "      <td>15.132746</td>\n",
       "      <td>2.772589</td>\n",
       "    </tr>\n",
       "    <tr>\n",
       "      <th>2</th>\n",
       "      <td>Central</td>\n",
       "      <td>2007</td>\n",
       "      <td>17</td>\n",
       "      <td>222</td>\n",
       "      <td>15</td>\n",
       "      <td>244</td>\n",
       "      <td>13</td>\n",
       "      <td>199</td>\n",
       "      <td>17</td>\n",
       "      <td>261</td>\n",
       "      <td>62</td>\n",
       "      <td>926</td>\n",
       "      <td>-7.49</td>\n",
       "      <td>13.06</td>\n",
       "      <td>14.899664</td>\n",
       "      <td>14.899664</td>\n",
       "      <td>2.708050</td>\n",
       "    </tr>\n",
       "    <tr>\n",
       "      <th>3</th>\n",
       "      <td>Central</td>\n",
       "      <td>2008</td>\n",
       "      <td>18</td>\n",
       "      <td>300</td>\n",
       "      <td>19</td>\n",
       "      <td>335</td>\n",
       "      <td>20</td>\n",
       "      <td>283</td>\n",
       "      <td>18</td>\n",
       "      <td>293</td>\n",
       "      <td>75</td>\n",
       "      <td>1211</td>\n",
       "      <td>30.78</td>\n",
       "      <td>16.67</td>\n",
       "      <td>17.320508</td>\n",
       "      <td>17.320508</td>\n",
       "      <td>2.944439</td>\n",
       "    </tr>\n",
       "    <tr>\n",
       "      <th>4</th>\n",
       "      <td>Central</td>\n",
       "      <td>2009</td>\n",
       "      <td>18</td>\n",
       "      <td>276</td>\n",
       "      <td>23</td>\n",
       "      <td>302</td>\n",
       "      <td>25</td>\n",
       "      <td>368</td>\n",
       "      <td>28</td>\n",
       "      <td>426</td>\n",
       "      <td>94</td>\n",
       "      <td>1372</td>\n",
       "      <td>13.29</td>\n",
       "      <td>15.33</td>\n",
       "      <td>16.613248</td>\n",
       "      <td>16.613248</td>\n",
       "      <td>3.135494</td>\n",
       "    </tr>\n",
       "  </tbody>\n",
       "</table>\n",
       "</div>"
      ],
      "text/plain": [
       "  Geographic Region  Year  # of trips Winter  # of participants Winter  \\\n",
       "0           Central  2005                 13                       154   \n",
       "1           Central  2006                 17                       229   \n",
       "2           Central  2007                 17                       222   \n",
       "3           Central  2008                 18                       300   \n",
       "4           Central  2009                 18                       276   \n",
       "\n",
       "   # of trips Spring  # of participants Spring  # of trips Summer  \\\n",
       "0                 18                       290                 20   \n",
       "1                 16                       227                 19   \n",
       "2                 15                       244                 13   \n",
       "3                 19                       335                 20   \n",
       "4                 23                       302                 25   \n",
       "\n",
       "   # of participants Summer  # of trips Fall  # of participants Fall  \\\n",
       "0                       267               16                     245   \n",
       "1                       265               16                     280   \n",
       "2                       199               17                     261   \n",
       "3                       283               18                     293   \n",
       "4                       368               28                     426   \n",
       "\n",
       "   # of trips per year  # participants per year  \\\n",
       "0                   67                      956   \n",
       "1                   68                     1001   \n",
       "2                   62                      926   \n",
       "3                   75                     1211   \n",
       "4                   94                     1372   \n",
       "\n",
       "   increase/decrease of prior year  Average # people per trip  \\\n",
       "0                             0.00                      11.85   \n",
       "1                             4.71                      13.47   \n",
       "2                            -7.49                      13.06   \n",
       "3                            30.78                      16.67   \n",
       "4                            13.29                      15.33   \n",
       "\n",
       "   # of participants WinterSQRT  # of participants Winter_bySQRT  \\\n",
       "0                     12.409674                        12.409674   \n",
       "1                     15.132746                        15.132746   \n",
       "2                     14.899664                        14.899664   \n",
       "3                     17.320508                        17.320508   \n",
       "4                     16.613248                        16.613248   \n",
       "\n",
       "   # of trips SpringLOG  \n",
       "0              2.890372  \n",
       "1              2.772589  \n",
       "2              2.708050  \n",
       "3              2.944439  \n",
       "4              3.135494  "
      ]
     },
     "execution_count": 30,
     "metadata": {},
     "output_type": "execute_result"
    }
   ],
   "source": [
    "Seattle_ParksnRec.head()"
   ]
  },
  {
   "cell_type": "code",
   "execution_count": 31,
   "id": "5a904128-4d1e-4c3b-b35c-161bd114fdad",
   "metadata": {},
   "outputs": [
    {
     "name": "stderr",
     "output_type": "stream",
     "text": [
      "/usr/local/Cellar/jupyterlab/3.3.2/libexec/lib/python3.9/site-packages/seaborn/distributions.py:2619: FutureWarning: `distplot` is a deprecated function and will be removed in a future version. Please adapt your code to use either `displot` (a figure-level function with similar flexibility) or `histplot` (an axes-level function for histograms).\n",
      "  warnings.warn(msg, FutureWarning)\n"
     ]
    },
    {
     "data": {
      "text/plain": [
       "<AxesSubplot:ylabel='Density'>"
      ]
     },
     "execution_count": 31,
     "metadata": {},
     "output_type": "execute_result"
    },
    {
     "data": {
      "image/png": "[encoded data removed]",
      "text/plain": [
       "<Figure size 432x288 with 1 Axes>"
      ]
     },
     "metadata": {
      "needs_background": "light"
     },
     "output_type": "display_data"
    }
   ],
   "source": [
    "sns.distplot(Seattle_ParksnRec[[\"# of trips SpringLOG\"]])"
   ]
  },
  {
   "cell_type": "code",
   "execution_count": 34,
   "id": "12237603-fe2e-42b2-a7ce-f954525a9202",
   "metadata": {},
   "outputs": [
    {
     "data": {
      "text/plain": [
       "<AxesSubplot:>"
      ]
     },
     "execution_count": 34,
     "metadata": {},
     "output_type": "execute_result"
    },
    {
     "data": {
      "image/png": "[encoded data removed]",
      "text/plain": [
       "<Figure size 432x288 with 1 Axes>"
      ]
     },
     "metadata": {
      "needs_background": "light"
     },
     "output_type": "display_data"
    }
   ],
   "source": [
    "Seattle_ParksnRec['# # of trips SpringLOG'].hist()\n"
   ]
  },
  {
   "cell_type": "markdown",
   "id": "a3b4d26d-0ef2-4e89-b829-c631780f11ec",
   "metadata": {},
   "source": [
    "# Transforming Negatively Skewed Data"
   ]
  },
  {
   "cell_type": "markdown",
   "id": "c2fce307-c655-4fac-bcb7-fa01b1b98d7c",
   "metadata": {},
   "source": [
    "### Squaring the Variable"
   ]
  },
  {
   "cell_type": "code",
   "execution_count": 35,
   "id": "18f1cac1-853e-478d-b731-f2a5104e77ed",
   "metadata": {},
   "outputs": [],
   "source": [
    "Seattle_ParksnRec['# of participants SpringSQ'] = Seattle_ParksnRec['# of participants Spring']**2"
   ]
  },
  {
   "cell_type": "code",
   "execution_count": 36,
   "id": "3424fd0d-7a88-45ec-b8e9-9cbd603320a6",
   "metadata": {},
   "outputs": [
    {
     "data": {
      "text/html": [
       "<div>\n",
       "<style scoped>\n",
       "    .dataframe tbody tr th:only-of-type {\n",
       "        vertical-align: middle;\n",
       "    }\n",
       "\n",
       "    .dataframe tbody tr th {\n",
       "        vertical-align: top;\n",
       "    }\n",
       "\n",
       "    .dataframe thead th {\n",
       "        text-align: right;\n",
       "    }\n",
       "</style>\n",
       "<table border=\"1\" class=\"dataframe\">\n",
       "  <thead>\n",
       "    <tr style=\"text-align: right;\">\n",
       "      <th></th>\n",
       "      <th>Geographic Region</th>\n",
       "      <th>Year</th>\n",
       "      <th># of trips Winter</th>\n",
       "      <th># of participants Winter</th>\n",
       "      <th># of trips Spring</th>\n",
       "      <th># of participants Spring</th>\n",
       "      <th># of trips Summer</th>\n",
       "      <th># of participants Summer</th>\n",
       "      <th># of trips Fall</th>\n",
       "      <th># of participants Fall</th>\n",
       "      <th># of trips per year</th>\n",
       "      <th># participants per year</th>\n",
       "      <th>increase/decrease of prior year</th>\n",
       "      <th>Average # people per trip</th>\n",
       "      <th># of participants WinterSQRT</th>\n",
       "      <th># of participants Winter_bySQRT</th>\n",
       "      <th># of trips SpringLOG</th>\n",
       "      <th># # of trips SpringLOG</th>\n",
       "      <th># of participants SpringSQ</th>\n",
       "    </tr>\n",
       "  </thead>\n",
       "  <tbody>\n",
       "    <tr>\n",
       "      <th>0</th>\n",
       "      <td>Central</td>\n",
       "      <td>2005</td>\n",
       "      <td>13</td>\n",
       "      <td>154</td>\n",
       "      <td>18</td>\n",
       "      <td>290</td>\n",
       "      <td>20</td>\n",
       "      <td>267</td>\n",
       "      <td>16</td>\n",
       "      <td>245</td>\n",
       "      <td>67</td>\n",
       "      <td>956</td>\n",
       "      <td>0.00</td>\n",
       "      <td>11.85</td>\n",
       "      <td>12.409674</td>\n",
       "      <td>12.409674</td>\n",
       "      <td>2.890372</td>\n",
       "      <td>2.890372</td>\n",
       "      <td>84100</td>\n",
       "    </tr>\n",
       "    <tr>\n",
       "      <th>1</th>\n",
       "      <td>Central</td>\n",
       "      <td>2006</td>\n",
       "      <td>17</td>\n",
       "      <td>229</td>\n",
       "      <td>16</td>\n",
       "      <td>227</td>\n",
       "      <td>19</td>\n",
       "      <td>265</td>\n",
       "      <td>16</td>\n",
       "      <td>280</td>\n",
       "      <td>68</td>\n",
       "      <td>1001</td>\n",
       "      <td>4.71</td>\n",
       "      <td>13.47</td>\n",
       "      <td>15.132746</td>\n",
       "      <td>15.132746</td>\n",
       "      <td>2.772589</td>\n",
       "      <td>2.772589</td>\n",
       "      <td>51529</td>\n",
       "    </tr>\n",
       "    <tr>\n",
       "      <th>2</th>\n",
       "      <td>Central</td>\n",
       "      <td>2007</td>\n",
       "      <td>17</td>\n",
       "      <td>222</td>\n",
       "      <td>15</td>\n",
       "      <td>244</td>\n",
       "      <td>13</td>\n",
       "      <td>199</td>\n",
       "      <td>17</td>\n",
       "      <td>261</td>\n",
       "      <td>62</td>\n",
       "      <td>926</td>\n",
       "      <td>-7.49</td>\n",
       "      <td>13.06</td>\n",
       "      <td>14.899664</td>\n",
       "      <td>14.899664</td>\n",
       "      <td>2.708050</td>\n",
       "      <td>2.708050</td>\n",
       "      <td>59536</td>\n",
       "    </tr>\n",
       "    <tr>\n",
       "      <th>3</th>\n",
       "      <td>Central</td>\n",
       "      <td>2008</td>\n",
       "      <td>18</td>\n",
       "      <td>300</td>\n",
       "      <td>19</td>\n",
       "      <td>335</td>\n",
       "      <td>20</td>\n",
       "      <td>283</td>\n",
       "      <td>18</td>\n",
       "      <td>293</td>\n",
       "      <td>75</td>\n",
       "      <td>1211</td>\n",
       "      <td>30.78</td>\n",
       "      <td>16.67</td>\n",
       "      <td>17.320508</td>\n",
       "      <td>17.320508</td>\n",
       "      <td>2.944439</td>\n",
       "      <td>2.944439</td>\n",
       "      <td>112225</td>\n",
       "    </tr>\n",
       "    <tr>\n",
       "      <th>4</th>\n",
       "      <td>Central</td>\n",
       "      <td>2009</td>\n",
       "      <td>18</td>\n",
       "      <td>276</td>\n",
       "      <td>23</td>\n",
       "      <td>302</td>\n",
       "      <td>25</td>\n",
       "      <td>368</td>\n",
       "      <td>28</td>\n",
       "      <td>426</td>\n",
       "      <td>94</td>\n",
       "      <td>1372</td>\n",
       "      <td>13.29</td>\n",
       "      <td>15.33</td>\n",
       "      <td>16.613248</td>\n",
       "      <td>16.613248</td>\n",
       "      <td>3.135494</td>\n",
       "      <td>3.135494</td>\n",
       "      <td>91204</td>\n",
       "    </tr>\n",
       "  </tbody>\n",
       "</table>\n",
       "</div>"
      ],
      "text/plain": [
       "  Geographic Region  Year  # of trips Winter  # of participants Winter  \\\n",
       "0           Central  2005                 13                       154   \n",
       "1           Central  2006                 17                       229   \n",
       "2           Central  2007                 17                       222   \n",
       "3           Central  2008                 18                       300   \n",
       "4           Central  2009                 18                       276   \n",
       "\n",
       "   # of trips Spring  # of participants Spring  # of trips Summer  \\\n",
       "0                 18                       290                 20   \n",
       "1                 16                       227                 19   \n",
       "2                 15                       244                 13   \n",
       "3                 19                       335                 20   \n",
       "4                 23                       302                 25   \n",
       "\n",
       "   # of participants Summer  # of trips Fall  # of participants Fall  \\\n",
       "0                       267               16                     245   \n",
       "1                       265               16                     280   \n",
       "2                       199               17                     261   \n",
       "3                       283               18                     293   \n",
       "4                       368               28                     426   \n",
       "\n",
       "   # of trips per year  # participants per year  \\\n",
       "0                   67                      956   \n",
       "1                   68                     1001   \n",
       "2                   62                      926   \n",
       "3                   75                     1211   \n",
       "4                   94                     1372   \n",
       "\n",
       "   increase/decrease of prior year  Average # people per trip  \\\n",
       "0                             0.00                      11.85   \n",
       "1                             4.71                      13.47   \n",
       "2                            -7.49                      13.06   \n",
       "3                            30.78                      16.67   \n",
       "4                            13.29                      15.33   \n",
       "\n",
       "   # of participants WinterSQRT  # of participants Winter_bySQRT  \\\n",
       "0                     12.409674                        12.409674   \n",
       "1                     15.132746                        15.132746   \n",
       "2                     14.899664                        14.899664   \n",
       "3                     17.320508                        17.320508   \n",
       "4                     16.613248                        16.613248   \n",
       "\n",
       "   # of trips SpringLOG  # # of trips SpringLOG  # of participants SpringSQ  \n",
       "0              2.890372                2.890372                       84100  \n",
       "1              2.772589                2.772589                       51529  \n",
       "2              2.708050                2.708050                       59536  \n",
       "3              2.944439                2.944439                      112225  \n",
       "4              3.135494                3.135494                       91204  "
      ]
     },
     "execution_count": 36,
     "metadata": {},
     "output_type": "execute_result"
    }
   ],
   "source": [
    "Seattle_ParksnRec.head()"
   ]
  },
  {
   "cell_type": "code",
   "execution_count": 38,
   "id": "7e77b8a4-1074-4d1f-a40e-fde9c7be9865",
   "metadata": {},
   "outputs": [
    {
     "name": "stderr",
     "output_type": "stream",
     "text": [
      "/usr/local/Cellar/jupyterlab/3.3.2/libexec/lib/python3.9/site-packages/seaborn/distributions.py:2619: FutureWarning: `distplot` is a deprecated function and will be removed in a future version. Please adapt your code to use either `displot` (a figure-level function with similar flexibility) or `histplot` (an axes-level function for histograms).\n",
      "  warnings.warn(msg, FutureWarning)\n"
     ]
    },
    {
     "data": {
      "text/plain": [
       "<AxesSubplot:ylabel='Density'>"
      ]
     },
     "execution_count": 38,
     "metadata": {},
     "output_type": "execute_result"
    },
    {
     "data": {
      "image/png": "[encoded data removed]",
      "text/plain": [
       "<Figure size 432x288 with 1 Axes>"
      ]
     },
     "metadata": {
      "needs_background": "light"
     },
     "output_type": "display_data"
    }
   ],
   "source": [
    "sns.distplot(Seattle_ParksnRec[[\"# of participants SpringSQ\"]])"
   ]
  },
  {
   "cell_type": "code",
   "execution_count": 40,
   "id": "e5086e47-0a0b-425b-9357-56dc528b6122",
   "metadata": {},
   "outputs": [
    {
     "data": {
      "text/plain": [
       "<AxesSubplot:>"
      ]
     },
     "execution_count": 40,
     "metadata": {},
     "output_type": "execute_result"
    },
    {
     "data": {
      "image/png": "[encoded data removed]",
      "text/plain": [
       "<Figure size 432x288 with 1 Axes>"
      ]
     },
     "metadata": {
      "needs_background": "light"
     },
     "output_type": "display_data"
    }
   ],
   "source": [
    "Seattle_ParksnRec[\"# of participants SpringSQ\"].hist()\n"
   ]
  },
  {
   "cell_type": "markdown",
   "id": "c05010ab-e4da-4242-9b88-886d1119f416",
   "metadata": {},
   "source": [
    "### Cubing the Variable"
   ]
  },
  {
   "cell_type": "code",
   "execution_count": 44,
   "id": "e2c38f7a-9870-47cc-8d81-39fd89224e56",
   "metadata": {},
   "outputs": [
    {
     "data": {
      "text/plain": [
       "<AxesSubplot:>"
      ]
     },
     "execution_count": 44,
     "metadata": {},
     "output_type": "execute_result"
    },
    {
     "data": {
      "image/png": "[encoded data removed]",
      "text/plain": [
       "<Figure size 432x288 with 1 Axes>"
      ]
     },
     "metadata": {
      "needs_background": "light"
     },
     "output_type": "display_data"
    }
   ],
   "source": [
    "Seattle_ParksnRec[\"# of trips SummerCUBE\"].hist()"
   ]
  },
  {
   "cell_type": "markdown",
   "id": "0544ca8f-6233-4cd2-9c4b-9101236cd15e",
   "metadata": {},
   "source": [
    "# BoxCox Transformation"
   ]
  },
  {
   "cell_type": "code",
   "execution_count": 45,
   "id": "2cdacf69-86a5-4a87-a925-8e423c7c9796",
   "metadata": {},
   "outputs": [],
   "source": [
    "from scipy import stats\n",
    "from scipy.stats import boxcox\n"
   ]
  },
  {
   "cell_type": "code",
   "execution_count": 47,
   "id": "7964dcb9-fd13-4175-8549-a697152e162a",
   "metadata": {},
   "outputs": [],
   "source": [
    "Seattle_ParksnRec['# of participants SummerLOG1'] = boxcox(Seattle_ParksnRec['# of participants Summer'],0)"
   ]
  },
  {
   "cell_type": "code",
   "execution_count": null,
   "id": "2ddc22de-e7d9-47a1-8f46-e64513b66020",
   "metadata": {},
   "outputs": [],
   "source": []
  }
 ],
 "metadata": {
  "kernelspec": {
   "display_name": "Python 3.9.5 64-bit",
   "language": "python",
   "name": "python3"
  },
  "language_info": {
   "codemirror_mode": {
    "name": "ipython",
    "version": 3
   },
   "file_extension": ".py",
   "mimetype": "text/x-python",
   "name": "python",
   "nbconvert_exporter": "python",
   "pygments_lexer": "ipython3",
   "version": "3.9.5"
  },
  "vscode": {
   "interpreter": {
    "hash": "aee8b7b246df8f9039afb4144a1f6fd8d2ca17a180786b69acc140d282b71a49"
   }
  }
 },
 "nbformat": 4,
 "nbformat_minor": 5
}
