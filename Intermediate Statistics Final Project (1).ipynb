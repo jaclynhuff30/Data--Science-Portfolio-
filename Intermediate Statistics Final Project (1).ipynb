{
 "cells": [
  {
   "cell_type": "markdown",
   "id": "6237029a-69c5-449b-a649-769b23875ad9",
   "metadata": {},
   "source": [
    "### Import Packages "
   ]
  },
  {
   "cell_type": "code",
   "execution_count": 2,
   "id": "dcbda41a-d0be-4240-af88-4b799ef52b82",
   "metadata": {},
   "outputs": [],
   "source": [
    "import pandas as pd\n",
    "import numpy as np\n",
    "import scipy\n",
    "from scipy import stats\n",
    "from statsmodels.stats.multicomp import pairwise_tukeyhsd\n",
    "from statsmodels.stats.multicomp import MultiComparison\n",
    "import seaborn as sns"
   ]
  },
  {
   "cell_type": "markdown",
   "id": "1c4900c4-990e-484b-ba57-3efc3c1a0a74",
   "metadata": {},
   "source": [
    "### Load Data"
   ]
  },
  {
   "cell_type": "code",
   "execution_count": 4,
   "id": "894ca162-7258-41f9-8b32-377e3309bc62",
   "metadata": {},
   "outputs": [],
   "source": [
    "avocados = pd.read_csv(\"//Users/jaclynhuff/Desktop/avocados.csv\")"
   ]
  },
  {
   "cell_type": "code",
   "execution_count": 5,
   "id": "6312c321-48b7-4ee8-85d0-74cd6747894f",
   "metadata": {},
   "outputs": [
    {
     "data": {
      "text/html": [
       "<div>\n",
       "<style scoped>\n",
       "    .dataframe tbody tr th:only-of-type {\n",
       "        vertical-align: middle;\n",
       "    }\n",
       "\n",
       "    .dataframe tbody tr th {\n",
       "        vertical-align: top;\n",
       "    }\n",
       "\n",
       "    .dataframe thead th {\n",
       "        text-align: right;\n",
       "    }\n",
       "</style>\n",
       "<table border=\"1\" class=\"dataframe\">\n",
       "  <thead>\n",
       "    <tr style=\"text-align: right;\">\n",
       "      <th></th>\n",
       "      <th>Unnamed: 0</th>\n",
       "      <th>Date</th>\n",
       "      <th>AveragePrice</th>\n",
       "      <th>Total Volume</th>\n",
       "      <th>4046</th>\n",
       "      <th>4225</th>\n",
       "      <th>4770</th>\n",
       "      <th>Total Bags</th>\n",
       "      <th>Small Bags</th>\n",
       "      <th>Large Bags</th>\n",
       "      <th>XLarge Bags</th>\n",
       "      <th>type</th>\n",
       "      <th>year</th>\n",
       "      <th>region</th>\n",
       "    </tr>\n",
       "  </thead>\n",
       "  <tbody>\n",
       "    <tr>\n",
       "      <th>0</th>\n",
       "      <td>0</td>\n",
       "      <td>12/27/15</td>\n",
       "      <td>1.33</td>\n",
       "      <td>64236.62</td>\n",
       "      <td>1036.74</td>\n",
       "      <td>54454.85</td>\n",
       "      <td>48.16</td>\n",
       "      <td>8696.87</td>\n",
       "      <td>8603.62</td>\n",
       "      <td>93.25</td>\n",
       "      <td>0.0</td>\n",
       "      <td>conventional</td>\n",
       "      <td>2015</td>\n",
       "      <td>Albany</td>\n",
       "    </tr>\n",
       "    <tr>\n",
       "      <th>1</th>\n",
       "      <td>1</td>\n",
       "      <td>12/20/15</td>\n",
       "      <td>1.35</td>\n",
       "      <td>54876.98</td>\n",
       "      <td>674.28</td>\n",
       "      <td>44638.81</td>\n",
       "      <td>58.33</td>\n",
       "      <td>9505.56</td>\n",
       "      <td>9408.07</td>\n",
       "      <td>97.49</td>\n",
       "      <td>0.0</td>\n",
       "      <td>conventional</td>\n",
       "      <td>2015</td>\n",
       "      <td>Albany</td>\n",
       "    </tr>\n",
       "    <tr>\n",
       "      <th>2</th>\n",
       "      <td>2</td>\n",
       "      <td>12/13/15</td>\n",
       "      <td>0.93</td>\n",
       "      <td>118220.22</td>\n",
       "      <td>794.70</td>\n",
       "      <td>109149.67</td>\n",
       "      <td>130.50</td>\n",
       "      <td>8145.35</td>\n",
       "      <td>8042.21</td>\n",
       "      <td>103.14</td>\n",
       "      <td>0.0</td>\n",
       "      <td>conventional</td>\n",
       "      <td>2015</td>\n",
       "      <td>Albany</td>\n",
       "    </tr>\n",
       "    <tr>\n",
       "      <th>3</th>\n",
       "      <td>3</td>\n",
       "      <td>12/6/15</td>\n",
       "      <td>1.08</td>\n",
       "      <td>78992.15</td>\n",
       "      <td>1132.00</td>\n",
       "      <td>71976.41</td>\n",
       "      <td>72.58</td>\n",
       "      <td>5811.16</td>\n",
       "      <td>5677.40</td>\n",
       "      <td>133.76</td>\n",
       "      <td>0.0</td>\n",
       "      <td>conventional</td>\n",
       "      <td>2015</td>\n",
       "      <td>Albany</td>\n",
       "    </tr>\n",
       "    <tr>\n",
       "      <th>4</th>\n",
       "      <td>4</td>\n",
       "      <td>11/29/15</td>\n",
       "      <td>1.28</td>\n",
       "      <td>51039.60</td>\n",
       "      <td>941.48</td>\n",
       "      <td>43838.39</td>\n",
       "      <td>75.78</td>\n",
       "      <td>6183.95</td>\n",
       "      <td>5986.26</td>\n",
       "      <td>197.69</td>\n",
       "      <td>0.0</td>\n",
       "      <td>conventional</td>\n",
       "      <td>2015</td>\n",
       "      <td>Albany</td>\n",
       "    </tr>\n",
       "  </tbody>\n",
       "</table>\n",
       "</div>"
      ],
      "text/plain": [
       "   Unnamed: 0      Date  AveragePrice  Total Volume     4046       4225  \\\n",
       "0           0  12/27/15          1.33      64236.62  1036.74   54454.85   \n",
       "1           1  12/20/15          1.35      54876.98   674.28   44638.81   \n",
       "2           2  12/13/15          0.93     118220.22   794.70  109149.67   \n",
       "3           3   12/6/15          1.08      78992.15  1132.00   71976.41   \n",
       "4           4  11/29/15          1.28      51039.60   941.48   43838.39   \n",
       "\n",
       "     4770  Total Bags  Small Bags  Large Bags  XLarge Bags          type  \\\n",
       "0   48.16     8696.87     8603.62       93.25          0.0  conventional   \n",
       "1   58.33     9505.56     9408.07       97.49          0.0  conventional   \n",
       "2  130.50     8145.35     8042.21      103.14          0.0  conventional   \n",
       "3   72.58     5811.16     5677.40      133.76          0.0  conventional   \n",
       "4   75.78     6183.95     5986.26      197.69          0.0  conventional   \n",
       "\n",
       "   year  region  \n",
       "0  2015  Albany  \n",
       "1  2015  Albany  \n",
       "2  2015  Albany  \n",
       "3  2015  Albany  \n",
       "4  2015  Albany  "
      ]
     },
     "execution_count": 5,
     "metadata": {},
     "output_type": "execute_result"
    }
   ],
   "source": [
    "avocados.head()"
   ]
  },
  {
   "cell_type": "markdown",
   "id": "ca041a76-8b9e-46c7-be09-35731bb5c832",
   "metadata": {},
   "source": [
    "### Question: Does the total volume of avocados sold differ between Indianapolis, Orlando, and PhoenixTuscon?"
   ]
  },
  {
   "cell_type": "code",
   "execution_count": 7,
   "id": "54b66afc-b04b-4d0b-bbb5-cafeb36cf88b",
   "metadata": {},
   "outputs": [],
   "source": [
    "regions = [\"Indianapolis \", \"Orlando\", \"PhoenixTucson\"]"
   ]
  },
  {
   "cell_type": "code",
   "execution_count": 9,
   "id": "1ef6bbb2-ff40-401a-ae3c-bb136e1d0a3c",
   "metadata": {},
   "outputs": [],
   "source": [
    "avocado1 = avocados[\"region\"].isin(regions)"
   ]
  },
  {
   "cell_type": "code",
   "execution_count": 10,
   "id": "0fa0e4ce-fdf5-473c-b95d-40cbeee09614",
   "metadata": {},
   "outputs": [],
   "source": [
    "avocado2 = avocados[avocado1].copy()"
   ]
  },
  {
   "cell_type": "code",
   "execution_count": 11,
   "id": "65f0afc5-4b40-46d8-9fb9-5a36d2b7edcb",
   "metadata": {},
   "outputs": [
    {
     "data": {
      "text/html": [
       "<div>\n",
       "<style scoped>\n",
       "    .dataframe tbody tr th:only-of-type {\n",
       "        vertical-align: middle;\n",
       "    }\n",
       "\n",
       "    .dataframe tbody tr th {\n",
       "        vertical-align: top;\n",
       "    }\n",
       "\n",
       "    .dataframe thead th {\n",
       "        text-align: right;\n",
       "    }\n",
       "</style>\n",
       "<table border=\"1\" class=\"dataframe\">\n",
       "  <thead>\n",
       "    <tr style=\"text-align: right;\">\n",
       "      <th></th>\n",
       "      <th>Unnamed: 0</th>\n",
       "      <th>Date</th>\n",
       "      <th>AveragePrice</th>\n",
       "      <th>Total Volume</th>\n",
       "      <th>4046</th>\n",
       "      <th>4225</th>\n",
       "      <th>4770</th>\n",
       "      <th>Total Bags</th>\n",
       "      <th>Small Bags</th>\n",
       "      <th>Large Bags</th>\n",
       "      <th>XLarge Bags</th>\n",
       "      <th>type</th>\n",
       "      <th>year</th>\n",
       "      <th>region</th>\n",
       "    </tr>\n",
       "  </thead>\n",
       "  <tbody>\n",
       "    <tr>\n",
       "      <th>1612</th>\n",
       "      <td>0</td>\n",
       "      <td>12/27/15</td>\n",
       "      <td>0.99</td>\n",
       "      <td>305773.54</td>\n",
       "      <td>211102.90</td>\n",
       "      <td>20765.29</td>\n",
       "      <td>124.04</td>\n",
       "      <td>73781.31</td>\n",
       "      <td>40641.55</td>\n",
       "      <td>33139.76</td>\n",
       "      <td>0.0</td>\n",
       "      <td>conventional</td>\n",
       "      <td>2015</td>\n",
       "      <td>Orlando</td>\n",
       "    </tr>\n",
       "    <tr>\n",
       "      <th>1613</th>\n",
       "      <td>1</td>\n",
       "      <td>12/20/15</td>\n",
       "      <td>1.21</td>\n",
       "      <td>200074.81</td>\n",
       "      <td>131152.60</td>\n",
       "      <td>15794.56</td>\n",
       "      <td>122.07</td>\n",
       "      <td>53005.58</td>\n",
       "      <td>36258.03</td>\n",
       "      <td>16747.55</td>\n",
       "      <td>0.0</td>\n",
       "      <td>conventional</td>\n",
       "      <td>2015</td>\n",
       "      <td>Orlando</td>\n",
       "    </tr>\n",
       "    <tr>\n",
       "      <th>1614</th>\n",
       "      <td>2</td>\n",
       "      <td>12/13/15</td>\n",
       "      <td>0.96</td>\n",
       "      <td>310101.52</td>\n",
       "      <td>217679.37</td>\n",
       "      <td>24260.86</td>\n",
       "      <td>168.63</td>\n",
       "      <td>67992.66</td>\n",
       "      <td>31407.15</td>\n",
       "      <td>36585.51</td>\n",
       "      <td>0.0</td>\n",
       "      <td>conventional</td>\n",
       "      <td>2015</td>\n",
       "      <td>Orlando</td>\n",
       "    </tr>\n",
       "    <tr>\n",
       "      <th>1615</th>\n",
       "      <td>3</td>\n",
       "      <td>12/6/15</td>\n",
       "      <td>1.20</td>\n",
       "      <td>199063.82</td>\n",
       "      <td>135222.96</td>\n",
       "      <td>21555.66</td>\n",
       "      <td>121.93</td>\n",
       "      <td>42163.27</td>\n",
       "      <td>24098.62</td>\n",
       "      <td>18064.65</td>\n",
       "      <td>0.0</td>\n",
       "      <td>conventional</td>\n",
       "      <td>2015</td>\n",
       "      <td>Orlando</td>\n",
       "    </tr>\n",
       "    <tr>\n",
       "      <th>1616</th>\n",
       "      <td>4</td>\n",
       "      <td>11/29/15</td>\n",
       "      <td>0.96</td>\n",
       "      <td>262683.80</td>\n",
       "      <td>190361.54</td>\n",
       "      <td>21007.77</td>\n",
       "      <td>37.82</td>\n",
       "      <td>51276.67</td>\n",
       "      <td>21536.82</td>\n",
       "      <td>29739.85</td>\n",
       "      <td>0.0</td>\n",
       "      <td>conventional</td>\n",
       "      <td>2015</td>\n",
       "      <td>Orlando</td>\n",
       "    </tr>\n",
       "  </tbody>\n",
       "</table>\n",
       "</div>"
      ],
      "text/plain": [
       "      Unnamed: 0      Date  AveragePrice  Total Volume       4046      4225  \\\n",
       "1612           0  12/27/15          0.99     305773.54  211102.90  20765.29   \n",
       "1613           1  12/20/15          1.21     200074.81  131152.60  15794.56   \n",
       "1614           2  12/13/15          0.96     310101.52  217679.37  24260.86   \n",
       "1615           3   12/6/15          1.20     199063.82  135222.96  21555.66   \n",
       "1616           4  11/29/15          0.96     262683.80  190361.54  21007.77   \n",
       "\n",
       "        4770  Total Bags  Small Bags  Large Bags  XLarge Bags          type  \\\n",
       "1612  124.04    73781.31    40641.55    33139.76          0.0  conventional   \n",
       "1613  122.07    53005.58    36258.03    16747.55          0.0  conventional   \n",
       "1614  168.63    67992.66    31407.15    36585.51          0.0  conventional   \n",
       "1615  121.93    42163.27    24098.62    18064.65          0.0  conventional   \n",
       "1616   37.82    51276.67    21536.82    29739.85          0.0  conventional   \n",
       "\n",
       "      year   region  \n",
       "1612  2015  Orlando  \n",
       "1613  2015  Orlando  \n",
       "1614  2015  Orlando  \n",
       "1615  2015  Orlando  \n",
       "1616  2015  Orlando  "
      ]
     },
     "execution_count": 11,
     "metadata": {},
     "output_type": "execute_result"
    }
   ],
   "source": [
    "avocado2.head()"
   ]
  },
  {
   "cell_type": "code",
   "execution_count": 16,
   "id": "406fdd5a-1827-476d-9412-82344fd71c5a",
   "metadata": {},
   "outputs": [
    {
     "data": {
      "text/plain": [
       "Orlando          338\n",
       "PhoenixTucson    338\n",
       "Name: region, dtype: int64"
      ]
     },
     "execution_count": 16,
     "metadata": {},
     "output_type": "execute_result"
    }
   ],
   "source": [
    "avocado2.region.value_counts()"
   ]
  },
  {
   "cell_type": "markdown",
   "id": "03afa3bf-8686-4e8e-a2bb-50d6ea16a9e1",
   "metadata": {},
   "source": [
    "### recode categorical variable"
   ]
  },
  {
   "cell_type": "code",
   "execution_count": 17,
   "id": "d9188b16-2675-4915-b0fe-b08677672df8",
   "metadata": {},
   "outputs": [],
   "source": [
    "dict = {'Indianapolis' : 0, 'Orlando' : 1, 'PhoenixTucson' : 2}"
   ]
  },
  {
   "cell_type": "code",
   "execution_count": 18,
   "id": "db2b6090-8b1b-456c-b5c4-ce82fbb656cb",
   "metadata": {},
   "outputs": [],
   "source": [
    "avocado2['region'] = avocado2.region.replace(dict)"
   ]
  },
  {
   "cell_type": "code",
   "execution_count": 19,
   "id": "6efd54c6-9b2e-47ad-ba86-a19ab33afca4",
   "metadata": {},
   "outputs": [
    {
     "data": {
      "text/html": [
       "<div>\n",
       "<style scoped>\n",
       "    .dataframe tbody tr th:only-of-type {\n",
       "        vertical-align: middle;\n",
       "    }\n",
       "\n",
       "    .dataframe tbody tr th {\n",
       "        vertical-align: top;\n",
       "    }\n",
       "\n",
       "    .dataframe thead th {\n",
       "        text-align: right;\n",
       "    }\n",
       "</style>\n",
       "<table border=\"1\" class=\"dataframe\">\n",
       "  <thead>\n",
       "    <tr style=\"text-align: right;\">\n",
       "      <th></th>\n",
       "      <th>Unnamed: 0</th>\n",
       "      <th>Date</th>\n",
       "      <th>AveragePrice</th>\n",
       "      <th>Total Volume</th>\n",
       "      <th>4046</th>\n",
       "      <th>4225</th>\n",
       "      <th>4770</th>\n",
       "      <th>Total Bags</th>\n",
       "      <th>Small Bags</th>\n",
       "      <th>Large Bags</th>\n",
       "      <th>XLarge Bags</th>\n",
       "      <th>type</th>\n",
       "      <th>year</th>\n",
       "      <th>region</th>\n",
       "    </tr>\n",
       "  </thead>\n",
       "  <tbody>\n",
       "    <tr>\n",
       "      <th>1612</th>\n",
       "      <td>0</td>\n",
       "      <td>12/27/15</td>\n",
       "      <td>0.99</td>\n",
       "      <td>305773.54</td>\n",
       "      <td>211102.90</td>\n",
       "      <td>20765.29</td>\n",
       "      <td>124.04</td>\n",
       "      <td>73781.31</td>\n",
       "      <td>40641.55</td>\n",
       "      <td>33139.76</td>\n",
       "      <td>0.0</td>\n",
       "      <td>conventional</td>\n",
       "      <td>2015</td>\n",
       "      <td>1</td>\n",
       "    </tr>\n",
       "    <tr>\n",
       "      <th>1613</th>\n",
       "      <td>1</td>\n",
       "      <td>12/20/15</td>\n",
       "      <td>1.21</td>\n",
       "      <td>200074.81</td>\n",
       "      <td>131152.60</td>\n",
       "      <td>15794.56</td>\n",
       "      <td>122.07</td>\n",
       "      <td>53005.58</td>\n",
       "      <td>36258.03</td>\n",
       "      <td>16747.55</td>\n",
       "      <td>0.0</td>\n",
       "      <td>conventional</td>\n",
       "      <td>2015</td>\n",
       "      <td>1</td>\n",
       "    </tr>\n",
       "    <tr>\n",
       "      <th>1614</th>\n",
       "      <td>2</td>\n",
       "      <td>12/13/15</td>\n",
       "      <td>0.96</td>\n",
       "      <td>310101.52</td>\n",
       "      <td>217679.37</td>\n",
       "      <td>24260.86</td>\n",
       "      <td>168.63</td>\n",
       "      <td>67992.66</td>\n",
       "      <td>31407.15</td>\n",
       "      <td>36585.51</td>\n",
       "      <td>0.0</td>\n",
       "      <td>conventional</td>\n",
       "      <td>2015</td>\n",
       "      <td>1</td>\n",
       "    </tr>\n",
       "    <tr>\n",
       "      <th>1615</th>\n",
       "      <td>3</td>\n",
       "      <td>12/6/15</td>\n",
       "      <td>1.20</td>\n",
       "      <td>199063.82</td>\n",
       "      <td>135222.96</td>\n",
       "      <td>21555.66</td>\n",
       "      <td>121.93</td>\n",
       "      <td>42163.27</td>\n",
       "      <td>24098.62</td>\n",
       "      <td>18064.65</td>\n",
       "      <td>0.0</td>\n",
       "      <td>conventional</td>\n",
       "      <td>2015</td>\n",
       "      <td>1</td>\n",
       "    </tr>\n",
       "    <tr>\n",
       "      <th>1616</th>\n",
       "      <td>4</td>\n",
       "      <td>11/29/15</td>\n",
       "      <td>0.96</td>\n",
       "      <td>262683.80</td>\n",
       "      <td>190361.54</td>\n",
       "      <td>21007.77</td>\n",
       "      <td>37.82</td>\n",
       "      <td>51276.67</td>\n",
       "      <td>21536.82</td>\n",
       "      <td>29739.85</td>\n",
       "      <td>0.0</td>\n",
       "      <td>conventional</td>\n",
       "      <td>2015</td>\n",
       "      <td>1</td>\n",
       "    </tr>\n",
       "  </tbody>\n",
       "</table>\n",
       "</div>"
      ],
      "text/plain": [
       "      Unnamed: 0      Date  AveragePrice  Total Volume       4046      4225  \\\n",
       "1612           0  12/27/15          0.99     305773.54  211102.90  20765.29   \n",
       "1613           1  12/20/15          1.21     200074.81  131152.60  15794.56   \n",
       "1614           2  12/13/15          0.96     310101.52  217679.37  24260.86   \n",
       "1615           3   12/6/15          1.20     199063.82  135222.96  21555.66   \n",
       "1616           4  11/29/15          0.96     262683.80  190361.54  21007.77   \n",
       "\n",
       "        4770  Total Bags  Small Bags  Large Bags  XLarge Bags          type  \\\n",
       "1612  124.04    73781.31    40641.55    33139.76          0.0  conventional   \n",
       "1613  122.07    53005.58    36258.03    16747.55          0.0  conventional   \n",
       "1614  168.63    67992.66    31407.15    36585.51          0.0  conventional   \n",
       "1615  121.93    42163.27    24098.62    18064.65          0.0  conventional   \n",
       "1616   37.82    51276.67    21536.82    29739.85          0.0  conventional   \n",
       "\n",
       "      year  region  \n",
       "1612  2015       1  \n",
       "1613  2015       1  \n",
       "1614  2015       1  \n",
       "1615  2015       1  \n",
       "1616  2015       1  "
      ]
     },
     "execution_count": 19,
     "metadata": {},
     "output_type": "execute_result"
    }
   ],
   "source": [
    "avocado2.head()"
   ]
  },
  {
   "cell_type": "code",
   "execution_count": 20,
   "id": "815512b4-0ce0-4802-8625-a0acc30f2ab7",
   "metadata": {},
   "outputs": [
    {
     "data": {
      "text/plain": [
       "1    338\n",
       "2    338\n",
       "Name: region, dtype: int64"
      ]
     },
     "execution_count": 20,
     "metadata": {},
     "output_type": "execute_result"
    }
   ],
   "source": [
    "avocado2.region.value_counts()"
   ]
  },
  {
   "cell_type": "markdown",
   "id": "35d4932c-b8f7-4593-93b3-b62c2c6a7a8c",
   "metadata": {},
   "source": [
    "### Assumptions"
   ]
  },
  {
   "cell_type": "markdown",
   "id": "085e856b-c844-4e67-8f53-bc8f7a74427b",
   "metadata": {},
   "source": [
    "##### Normality"
   ]
  },
  {
   "cell_type": "code",
   "execution_count": 21,
   "id": "356212f5-4096-41eb-88f2-97072a60f582",
   "metadata": {},
   "outputs": [
    {
     "data": {
      "text/plain": [
       "<seaborn.axisgrid.FacetGrid at 0x125fa2df0>"
      ]
     },
     "execution_count": 21,
     "metadata": {},
     "output_type": "execute_result"
    },
    {
     "data": {
      "image/png": "[encoded data removed]",
      "text/plain": [
       "<Figure size 360x360 with 1 Axes>"
      ]
     },
     "metadata": {
      "needs_background": "light"
     },
     "output_type": "display_data"
    }
   ],
   "source": [
    "sns.displot(avocado2['Total Volume'], kde = True)\n",
    "## positively skewed"
   ]
  },
  {
   "cell_type": "code",
   "execution_count": 24,
   "id": "aae8a28a-8e1e-465e-8f44-6ae07ff2352c",
   "metadata": {},
   "outputs": [],
   "source": [
    "avocado2['TVsqrt'] = np.sqrt(avocado2['Total Volume'])\n",
    "## take square root to transform for a possible correction"
   ]
  },
  {
   "cell_type": "code",
   "execution_count": 25,
   "id": "0e68be4b-188e-4c31-9138-77e05b881461",
   "metadata": {},
   "outputs": [
    {
     "data": {
      "text/plain": [
       "<seaborn.axisgrid.FacetGrid at 0x12819f430>"
      ]
     },
     "execution_count": 25,
     "metadata": {},
     "output_type": "execute_result"
    },
    {
     "data": {
      "image/png": "[encoded data removed]",
      "text/plain": [
       "<Figure size 500x500 with 1 Axes>"
      ]
     },
     "metadata": {},
     "output_type": "display_data"
    }
   ],
   "source": [
    "sns.displot(avocado2['TVsqrt'], kde = True)\n",
    "## does not really make the total volume more approx. normally distributed - try log"
   ]
  },
  {
   "cell_type": "code",
   "execution_count": 26,
   "id": "96cb9cc7-6558-4bfb-85f7-cc40920dcdcd",
   "metadata": {},
   "outputs": [],
   "source": [
    "avocado2['TVlog'] = np.log(avocado2['Total Volume'])\n",
    "## take log to transform for a possible correction"
   ]
  },
  {
   "cell_type": "code",
   "execution_count": 27,
   "id": "e307486b-95ac-4707-ad66-775ac644aeda",
   "metadata": {},
   "outputs": [
    {
     "data": {
      "text/plain": [
       "<seaborn.axisgrid.FacetGrid at 0x1282155b0>"
      ]
     },
     "execution_count": 27,
     "metadata": {},
     "output_type": "execute_result"
    },
    {
     "data": {
      "image/png": "[encoded data removed]",
      "text/plain": [
       "<Figure size 500x500 with 1 Axes>"
      ]
     },
     "metadata": {},
     "output_type": "display_data"
    }
   ],
   "source": [
    "sns.displot(avocado2['TVlog'], kde = True)\n",
    "## The is perhaps best - though it does not really look approx normal"
   ]
  },
  {
   "cell_type": "markdown",
   "id": "6e11edf5-59fe-49c7-b521-1d5924c51a42",
   "metadata": {},
   "source": [
    "#### Homogeneity of Variance"
   ]
  },
  {
   "cell_type": "code",
   "execution_count": 28,
   "id": "1af11e72-b4b2-42e6-921c-8e17b38272ae",
   "metadata": {},
   "outputs": [
    {
     "data": {
      "text/plain": [
       "BartlettResult(statistic=1180.124651203016, pvalue=1.2729076650184803e-258)"
      ]
     },
     "execution_count": 28,
     "metadata": {},
     "output_type": "execute_result"
    }
   ],
   "source": [
    "scipy.stats.bartlett(avocado2[\"TVlog\"], avocado2[\"region\"])"
   ]
  },
  {
   "cell_type": "markdown",
   "id": "9a0c7c73-317d-4aee-9261-9254b1d944aa",
   "metadata": {},
   "source": [
    "#### ANOVA"
   ]
  },
  {
   "cell_type": "code",
   "execution_count": 31,
   "id": "c4edbb31-81bb-419a-b002-bb5ea099d469",
   "metadata": {},
   "outputs": [
    {
     "data": {
      "text/plain": [
       "F_onewayResult(statistic=174.05378837225294, pvalue=1.101276256457687e-65)"
      ]
     },
     "execution_count": 31,
     "metadata": {},
     "output_type": "execute_result"
    }
   ],
   "source": [
    "stats.f_oneway(avocados[\"Total Volume\"][avocados[\"region\"]=='Indianapolis'],\n",
    "                    avocados[\"Total Volume\"][avocados[\"region\"]=='Orlando'],\n",
    "                    avocados[\"Total Volume\"][avocados[\"region\"]=='PhoenixTucson'])\n",
    "## appears to be significant difference with that p-value"
   ]
  },
  {
   "cell_type": "markdown",
   "id": "182cded7-c91e-434e-94fd-1aa8d9a621ed",
   "metadata": {},
   "source": [
    "### Interpret Results"
   ]
  },
  {
   "cell_type": "code",
   "execution_count": 32,
   "id": "d49b1a16-5590-4fd6-b0d2-ddb57ec138a2",
   "metadata": {},
   "outputs": [
    {
     "name": "stdout",
     "output_type": "stream",
     "text": [
      "Multiple Comparison of Means - Tukey HSD, FWER=0.05\n",
      "=================================================\n",
      "group1 group2 meandiff p-adj lower  upper  reject\n",
      "-------------------------------------------------\n",
      "     1      2   1.0474   0.0 0.7103 1.3845   True\n",
      "-------------------------------------------------\n"
     ]
    }
   ],
   "source": [
    "postHoc = MultiComparison(avocado2[\"TVlog\"], avocado2[\"region\"])\n",
    "postHocResults = postHoc.tukeyhsd()\n",
    "print(postHocResults)\n",
    "## reject the null hypothesis for all"
   ]
  },
  {
   "cell_type": "code",
   "execution_count": 33,
   "id": "1c6d0796-219e-45d1-b58a-2a700925cf61",
   "metadata": {},
   "outputs": [],
   "source": [
    "avocado3 = avocado2[['region', 'Total Volume']]"
   ]
  },
  {
   "cell_type": "code",
   "execution_count": 34,
   "id": "e3a40e59-1231-40b2-b08a-674fdeafa1e7",
   "metadata": {},
   "outputs": [
    {
     "data": {
      "text/html": [
       "<div>\n",
       "<style scoped>\n",
       "    .dataframe tbody tr th:only-of-type {\n",
       "        vertical-align: middle;\n",
       "    }\n",
       "\n",
       "    .dataframe tbody tr th {\n",
       "        vertical-align: top;\n",
       "    }\n",
       "\n",
       "    .dataframe thead th {\n",
       "        text-align: right;\n",
       "    }\n",
       "</style>\n",
       "<table border=\"1\" class=\"dataframe\">\n",
       "  <thead>\n",
       "    <tr style=\"text-align: right;\">\n",
       "      <th></th>\n",
       "      <th>Total Volume</th>\n",
       "    </tr>\n",
       "    <tr>\n",
       "      <th>region</th>\n",
       "      <th></th>\n",
       "    </tr>\n",
       "  </thead>\n",
       "  <tbody>\n",
       "    <tr>\n",
       "      <th>1</th>\n",
       "      <td>173552.378373</td>\n",
       "    </tr>\n",
       "    <tr>\n",
       "      <th>2</th>\n",
       "      <td>578826.368343</td>\n",
       "    </tr>\n",
       "  </tbody>\n",
       "</table>\n",
       "</div>"
      ],
      "text/plain": [
       "         Total Volume\n",
       "region               \n",
       "1       173552.378373\n",
       "2       578826.368343"
      ]
     },
     "execution_count": 34,
     "metadata": {},
     "output_type": "execute_result"
    }
   ],
   "source": [
    "avocado3.groupby(\"region\").mean()"
   ]
  },
  {
   "cell_type": "markdown",
   "id": "52fab894-e957-4212-85ae-be8a8c0f93dd",
   "metadata": {},
   "source": [
    "### PhoenixTucson has the highest total volume, with Chicago having the least total volume of the three."
   ]
  },
  {
   "cell_type": "code",
   "execution_count": null,
   "id": "228fb56b-7895-4731-a140-b133e0dde755",
   "metadata": {},
   "outputs": [],
   "source": []
  }
 ],
 "metadata": {
  "kernelspec": {
   "display_name": "Python 3.9.5 64-bit",
   "language": "python",
   "name": "python3"
  },
  "language_info": {
   "codemirror_mode": {
    "name": "ipython",
    "version": 3
   },
   "file_extension": ".py",
   "mimetype": "text/x-python",
   "name": "python",
   "nbconvert_exporter": "python",
   "pygments_lexer": "ipython3",
   "version": "3.9.5"
  },
  "vscode": {
   "interpreter": {
    "hash": "aee8b7b246df8f9039afb4144a1f6fd8d2ca17a180786b69acc140d282b71a49"
   }
  }
 },
 "nbformat": 4,
 "nbformat_minor": 5
}
