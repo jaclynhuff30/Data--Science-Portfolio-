{
 "cells": [
  {
   "cell_type": "markdown",
   "id": "9317717f-f392-41c1-8a8c-7fba5daa9953",
   "metadata": {},
   "source": [
    "# To determine the rating Score of 6.2 Different from the Mean in this Dataset?"
   ]
  },
  {
   "cell_type": "markdown",
   "id": "888437da-b4a2-4dcd-8c4c-3d1ad9c9d496",
   "metadata": {},
   "source": [
    "# Import Packages "
   ]
  },
  {
   "cell_type": "code",
   "execution_count": 2,
   "id": "0309438b-e514-42e6-b342-1cd6cea65a1a",
   "metadata": {},
   "outputs": [],
   "source": [
    "import pandas as pd\n",
    "import numpy as np\n",
    "from scipy.stats import norm\n",
    "from scipy import stats\n",
    "from scipy.stats import ttest_ind\n",
    "import matplotlib.pyplot as plt\n",
    "import seaborn as sns\n",
    "import numpy as np"
   ]
  },
  {
   "cell_type": "markdown",
   "id": "69a6a540-8785-4315-ac76-2005f4f8143b",
   "metadata": {},
   "source": [
    "# Load in Data"
   ]
  },
  {
   "cell_type": "code",
   "execution_count": 10,
   "id": "dfe82668-9fcc-4aa1-ab02-d1fb2074e7a6",
   "metadata": {},
   "outputs": [],
   "source": [
    "anime = pd.read_csv(\"///Users/jaclynhuff/Desktop/anime 2.csv\")"
   ]
  },
  {
   "cell_type": "code",
   "execution_count": 11,
   "id": "7278840a-98ee-49df-91b8-5e8a7d6b17ec",
   "metadata": {},
   "outputs": [
    {
     "data": {
      "text/html": [
       "<div>\n",
       "<style scoped>\n",
       "    .dataframe tbody tr th:only-of-type {\n",
       "        vertical-align: middle;\n",
       "    }\n",
       "\n",
       "    .dataframe tbody tr th {\n",
       "        vertical-align: top;\n",
       "    }\n",
       "\n",
       "    .dataframe thead th {\n",
       "        text-align: right;\n",
       "    }\n",
       "</style>\n",
       "<table border=\"1\" class=\"dataframe\">\n",
       "  <thead>\n",
       "    <tr style=\"text-align: right;\">\n",
       "      <th></th>\n",
       "      <th>anime_id</th>\n",
       "      <th>title</th>\n",
       "      <th>title_english</th>\n",
       "      <th>title_japanese</th>\n",
       "      <th>title_synonyms</th>\n",
       "      <th>image_url</th>\n",
       "      <th>type</th>\n",
       "      <th>source</th>\n",
       "      <th>episodes</th>\n",
       "      <th>status</th>\n",
       "      <th>airing</th>\n",
       "      <th>aired_string</th>\n",
       "      <th>aired</th>\n",
       "      <th>duration</th>\n",
       "      <th>rating</th>\n",
       "      <th>score</th>\n",
       "      <th>scored_by</th>\n",
       "      <th>rank</th>\n",
       "      <th>popularity</th>\n",
       "      <th>members</th>\n",
       "      <th>favorites</th>\n",
       "      <th>background</th>\n",
       "      <th>premiered</th>\n",
       "      <th>broadcast</th>\n",
       "      <th>related</th>\n",
       "      <th>producer</th>\n",
       "      <th>licensor</th>\n",
       "      <th>studio</th>\n",
       "      <th>genre</th>\n",
       "      <th>opening_theme</th>\n",
       "      <th>ending_theme</th>\n",
       "      <th>duration_min</th>\n",
       "      <th>aired_from_year</th>\n",
       "    </tr>\n",
       "  </thead>\n",
       "  <tbody>\n",
       "    <tr>\n",
       "      <th>0</th>\n",
       "      <td>11013</td>\n",
       "      <td>Inu x Boku SS</td>\n",
       "      <td>Inu X Boku Secret Service</td>\n",
       "      <td>妖狐×僕SS</td>\n",
       "      <td>Youko x Boku SS</td>\n",
       "      <td>https://myanimelist.cdn-dena.com/images/anime/...</td>\n",
       "      <td>TV</td>\n",
       "      <td>Manga</td>\n",
       "      <td>12</td>\n",
       "      <td>Finished Airing</td>\n",
       "      <td>False</td>\n",
       "      <td>Jan 13, 2012 to Mar 30, 2012</td>\n",
       "      <td>{'from': '2012-01-13', 'to': '2012-03-30'}</td>\n",
       "      <td>24 min. per ep.</td>\n",
       "      <td>PG-13 - Teens 13 or older</td>\n",
       "      <td>7.63</td>\n",
       "      <td>139250</td>\n",
       "      <td>1274.0</td>\n",
       "      <td>231</td>\n",
       "      <td>283882</td>\n",
       "      <td>2809</td>\n",
       "      <td>Inu x Boku SS was licensed by Sentai Filmworks...</td>\n",
       "      <td>Winter 2012</td>\n",
       "      <td>Fridays at Unknown</td>\n",
       "      <td>{'Adaptation': [{'mal_id': 17207, 'type': 'man...</td>\n",
       "      <td>Aniplex, Square Enix, Mainichi Broadcasting Sy...</td>\n",
       "      <td>Sentai Filmworks</td>\n",
       "      <td>David Production</td>\n",
       "      <td>Comedy, Supernatural, Romance, Shounen</td>\n",
       "      <td>['\"Nirvana\" by MUCC']</td>\n",
       "      <td>['#1: \"Nirvana\" by MUCC (eps 1, 11-12)', '#2: ...</td>\n",
       "      <td>24.0</td>\n",
       "      <td>2012</td>\n",
       "    </tr>\n",
       "    <tr>\n",
       "      <th>1</th>\n",
       "      <td>2104</td>\n",
       "      <td>Seto no Hanayome</td>\n",
       "      <td>My Bride is a Mermaid</td>\n",
       "      <td>瀬戸の花嫁</td>\n",
       "      <td>The Inland Sea Bride</td>\n",
       "      <td>https://myanimelist.cdn-dena.com/images/anime/...</td>\n",
       "      <td>TV</td>\n",
       "      <td>Manga</td>\n",
       "      <td>26</td>\n",
       "      <td>Finished Airing</td>\n",
       "      <td>False</td>\n",
       "      <td>Apr 2, 2007 to Oct 1, 2007</td>\n",
       "      <td>{'from': '2007-04-02', 'to': '2007-10-01'}</td>\n",
       "      <td>24 min. per ep.</td>\n",
       "      <td>PG-13 - Teens 13 or older</td>\n",
       "      <td>7.89</td>\n",
       "      <td>91206</td>\n",
       "      <td>727.0</td>\n",
       "      <td>366</td>\n",
       "      <td>204003</td>\n",
       "      <td>2579</td>\n",
       "      <td>NaN</td>\n",
       "      <td>Spring 2007</td>\n",
       "      <td>Unknown</td>\n",
       "      <td>{'Adaptation': [{'mal_id': 759, 'type': 'manga...</td>\n",
       "      <td>TV Tokyo, AIC, Square Enix, Sotsu</td>\n",
       "      <td>Funimation</td>\n",
       "      <td>Gonzo</td>\n",
       "      <td>Comedy, Parody, Romance, School, Shounen</td>\n",
       "      <td>['\"Romantic summer\" by SUN&amp;LUNAR']</td>\n",
       "      <td>['#1: \"Ashita e no Hikari (明日への光)\" by Asuka Hi...</td>\n",
       "      <td>24.0</td>\n",
       "      <td>2007</td>\n",
       "    </tr>\n",
       "  </tbody>\n",
       "</table>\n",
       "</div>"
      ],
      "text/plain": [
       "   anime_id             title              title_english title_japanese  \\\n",
       "0     11013     Inu x Boku SS  Inu X Boku Secret Service         妖狐×僕SS   \n",
       "1      2104  Seto no Hanayome      My Bride is a Mermaid          瀬戸の花嫁   \n",
       "\n",
       "         title_synonyms                                          image_url  \\\n",
       "0       Youko x Boku SS  https://myanimelist.cdn-dena.com/images/anime/...   \n",
       "1  The Inland Sea Bride  https://myanimelist.cdn-dena.com/images/anime/...   \n",
       "\n",
       "  type source  episodes           status  airing  \\\n",
       "0   TV  Manga        12  Finished Airing   False   \n",
       "1   TV  Manga        26  Finished Airing   False   \n",
       "\n",
       "                   aired_string                                       aired  \\\n",
       "0  Jan 13, 2012 to Mar 30, 2012  {'from': '2012-01-13', 'to': '2012-03-30'}   \n",
       "1    Apr 2, 2007 to Oct 1, 2007  {'from': '2007-04-02', 'to': '2007-10-01'}   \n",
       "\n",
       "          duration                     rating  score  scored_by    rank  \\\n",
       "0  24 min. per ep.  PG-13 - Teens 13 or older   7.63     139250  1274.0   \n",
       "1  24 min. per ep.  PG-13 - Teens 13 or older   7.89      91206   727.0   \n",
       "\n",
       "   popularity  members  favorites  \\\n",
       "0         231   283882       2809   \n",
       "1         366   204003       2579   \n",
       "\n",
       "                                          background    premiered  \\\n",
       "0  Inu x Boku SS was licensed by Sentai Filmworks...  Winter 2012   \n",
       "1                                                NaN  Spring 2007   \n",
       "\n",
       "            broadcast                                            related  \\\n",
       "0  Fridays at Unknown  {'Adaptation': [{'mal_id': 17207, 'type': 'man...   \n",
       "1             Unknown  {'Adaptation': [{'mal_id': 759, 'type': 'manga...   \n",
       "\n",
       "                                            producer          licensor  \\\n",
       "0  Aniplex, Square Enix, Mainichi Broadcasting Sy...  Sentai Filmworks   \n",
       "1                  TV Tokyo, AIC, Square Enix, Sotsu        Funimation   \n",
       "\n",
       "             studio                                     genre  \\\n",
       "0  David Production    Comedy, Supernatural, Romance, Shounen   \n",
       "1             Gonzo  Comedy, Parody, Romance, School, Shounen   \n",
       "\n",
       "                        opening_theme  \\\n",
       "0               ['\"Nirvana\" by MUCC']   \n",
       "1  ['\"Romantic summer\" by SUN&LUNAR']   \n",
       "\n",
       "                                        ending_theme  duration_min  \\\n",
       "0  ['#1: \"Nirvana\" by MUCC (eps 1, 11-12)', '#2: ...          24.0   \n",
       "1  ['#1: \"Ashita e no Hikari (明日への光)\" by Asuka Hi...          24.0   \n",
       "\n",
       "   aired_from_year  \n",
       "0             2012  \n",
       "1             2007  "
      ]
     },
     "execution_count": 11,
     "metadata": {},
     "output_type": "execute_result"
    }
   ],
   "source": [
    "pd.options.display.max_columns = None\n",
    "anime.head(2)"
   ]
  },
  {
   "cell_type": "markdown",
   "id": "5721a911-682c-46dd-a2a8-4876cdffb39a",
   "metadata": {},
   "source": [
    "## Test Assumptions"
   ]
  },
  {
   "cell_type": "code",
   "execution_count": 12,
   "id": "52c84d81-43e5-44c1-883d-2e2bdaa04003",
   "metadata": {},
   "outputs": [
    {
     "data": {
      "text/plain": [
       "<AxesSubplot:>"
      ]
     },
     "execution_count": 12,
     "metadata": {},
     "output_type": "execute_result"
    },
    {
     "data": {
      "image/png": "[encoded data removed]",
      "text/plain": [
       "<Figure size 432x288 with 1 Axes>"
      ]
     },
     "metadata": {
      "needs_background": "light"
     },
     "output_type": "display_data"
    }
   ],
   "source": [
    "anime['score'].hist()"
   ]
  },
  {
   "cell_type": "markdown",
   "id": "95081593-42ed-4101-a1ef-728d0db214e6",
   "metadata": {},
   "source": [
    "## Run a Single Sample t-Test"
   ]
  },
  {
   "cell_type": "code",
   "execution_count": 13,
   "id": "63cae162-e54e-40d2-8cc7-aa9279819cbf",
   "metadata": {},
   "outputs": [
    {
     "data": {
      "text/plain": [
       "Ttest_1sampResult(statistic=57.14153988539698, pvalue=0.0)"
      ]
     },
     "execution_count": 13,
     "metadata": {},
     "output_type": "execute_result"
    }
   ],
   "source": [
    "stats.ttest_1samp(anime['score'], 6.2)"
   ]
  },
  {
   "cell_type": "markdown",
   "id": "068394b4-059b-44e2-b73c-f8ed4c3f8a88",
   "metadata": {},
   "source": [
    "## Examine the Means"
   ]
  },
  {
   "cell_type": "code",
   "execution_count": 14,
   "id": "ba7bdd40-77e6-44cb-90b1-3823738e4603",
   "metadata": {},
   "outputs": [
    {
     "data": {
      "text/plain": [
       "6.848998200359928"
      ]
     },
     "execution_count": 14,
     "metadata": {},
     "output_type": "execute_result"
    }
   ],
   "source": [
    "anime.score.mean()"
   ]
  },
  {
   "cell_type": "markdown",
   "id": "710d92d6-66b2-4603-977d-b5d9f55046c5",
   "metadata": {},
   "source": [
    "## Does Anime that is Still Airing Differ in Popularity from Anime that is No Longer Airing?"
   ]
  },
  {
   "cell_type": "code",
   "execution_count": 15,
   "id": "21841c82-66eb-4291-b321-de3862bed70c",
   "metadata": {},
   "outputs": [
    {
     "data": {
      "text/plain": [
       "<AxesSubplot:>"
      ]
     },
     "execution_count": 15,
     "metadata": {},
     "output_type": "execute_result"
    },
    {
     "data": {
      "image/png": "[encoded data removed]",
      "text/plain": [
       "<Figure size 432x288 with 1 Axes>"
      ]
     },
     "metadata": {
      "needs_background": "light"
     },
     "output_type": "display_data"
    }
   ],
   "source": [
    "anime.popularity[anime.status == \"Finished Airing\"].hist()"
   ]
  },
  {
   "cell_type": "code",
   "execution_count": 16,
   "id": "63a0e55c-cf14-4e61-8e5a-8712e2eb08cd",
   "metadata": {},
   "outputs": [
    {
     "data": {
      "text/plain": [
       "<AxesSubplot:>"
      ]
     },
     "execution_count": 16,
     "metadata": {},
     "output_type": "execute_result"
    },
    {
     "data": {
      "image/png": "[encoded data removed]",
      "text/plain": [
       "<Figure size 432x288 with 1 Axes>"
      ]
     },
     "metadata": {
      "needs_background": "light"
     },
     "output_type": "display_data"
    }
   ],
   "source": [
    "anime.popularity[anime.status == \"Currently Airing\"].hist()"
   ]
  },
  {
   "cell_type": "markdown",
   "id": "2feea572-35fd-471d-8aed-b208161a9aa9",
   "metadata": {},
   "source": [
    "# Run an  Independent t-Test"
   ]
  },
  {
   "cell_type": "code",
   "execution_count": 17,
   "id": "0a2c2388-27cf-40c7-89f9-b0e0178603f9",
   "metadata": {},
   "outputs": [
    {
     "data": {
      "text/plain": [
       "Ttest_indResult(statistic=-6.489071311277514, pvalue=9.256789141747445e-11)"
      ]
     },
     "execution_count": 17,
     "metadata": {},
     "output_type": "execute_result"
    }
   ],
   "source": [
    "ttest_ind(anime.popularity[anime.status == 'Finished Airing'], anime.popularity[anime.status == 'Currently Airing'])"
   ]
  },
  {
   "cell_type": "code",
   "execution_count": 18,
   "id": "7b685984-617a-4d7a-b64e-0040d7721aa0",
   "metadata": {},
   "outputs": [
    {
     "data": {
      "text/plain": [
       "6108.131147540984"
      ]
     },
     "execution_count": 18,
     "metadata": {},
     "output_type": "execute_result"
    }
   ],
   "source": [
    "anime.popularity[anime.status == \"Currently Airing\"].mean()"
   ]
  },
  {
   "cell_type": "markdown",
   "id": "6475cc81-e9a1-40f4-94c5-a865ae238e8f",
   "metadata": {},
   "source": [
    "# Does the Source of the Anime Influence the Type of Anime?"
   ]
  },
  {
   "cell_type": "code",
   "execution_count": 19,
   "id": "e6f848c3-b531-4401-ae7b-ef966da3daa5",
   "metadata": {},
   "outputs": [],
   "source": [
    "def source (series):\n",
    "    if series == \"4-koma manga\" :\n",
    "        return \"Manga\"\n",
    "    if series == \"Digital manga\": \n",
    "        return \"Manga\"\n",
    "    if series == \"Manga\": \n",
    "        return \"Manga\"\n",
    "    if series == \"Web Manga\": \n",
    "        return \"Manga\"\n",
    "    if series == \"Book\": \n",
    "        return \"Book\"\n",
    "    if series == \"Light novel\": \n",
    "        return \"Book\"\n",
    "    if series == \"Novel\": \n",
    "        return \"Book\"\n",
    "    if series == \"Picture book\": \n",
    "        return \"Book\"\n",
    "    if series == \"Visual novel\": \n",
    "        return \"Book\"\n",
    "    if series == \"Card game\": \n",
    "        return \"Game\"\n",
    "    if series == \"Game\": \n",
    "        return \"Game\"\n",
    "    if series == \"Music\": \n",
    "        return \"Listening\"\n",
    "    if series == \"Radio\": \n",
    "        return \"Listening\"\n",
    "    if series == \"Other\": \n",
    "        return \"Other\"\n",
    "    if series == \"Original\": \n",
    "        return \"Other\"\n",
    "    \n",
    "anime['sourceR'] = anime['source'].apply(source)"
   ]
  },
  {
   "cell_type": "code",
   "execution_count": 20,
   "id": "db0d3d3b-b092-470a-b953-67b738fb68e9",
   "metadata": {},
   "outputs": [
    {
     "data": {
      "text/html": [
       "<div>\n",
       "<style scoped>\n",
       "    .dataframe tbody tr th:only-of-type {\n",
       "        vertical-align: middle;\n",
       "    }\n",
       "\n",
       "    .dataframe tbody tr th {\n",
       "        vertical-align: top;\n",
       "    }\n",
       "\n",
       "    .dataframe thead th {\n",
       "        text-align: right;\n",
       "    }\n",
       "</style>\n",
       "<table border=\"1\" class=\"dataframe\">\n",
       "  <thead>\n",
       "    <tr style=\"text-align: right;\">\n",
       "      <th></th>\n",
       "      <th>anime_id</th>\n",
       "      <th>title</th>\n",
       "      <th>title_english</th>\n",
       "      <th>title_japanese</th>\n",
       "      <th>title_synonyms</th>\n",
       "      <th>image_url</th>\n",
       "      <th>type</th>\n",
       "      <th>source</th>\n",
       "      <th>episodes</th>\n",
       "      <th>status</th>\n",
       "      <th>airing</th>\n",
       "      <th>aired_string</th>\n",
       "      <th>aired</th>\n",
       "      <th>duration</th>\n",
       "      <th>rating</th>\n",
       "      <th>score</th>\n",
       "      <th>scored_by</th>\n",
       "      <th>rank</th>\n",
       "      <th>popularity</th>\n",
       "      <th>members</th>\n",
       "      <th>favorites</th>\n",
       "      <th>background</th>\n",
       "      <th>premiered</th>\n",
       "      <th>broadcast</th>\n",
       "      <th>related</th>\n",
       "      <th>producer</th>\n",
       "      <th>licensor</th>\n",
       "      <th>studio</th>\n",
       "      <th>genre</th>\n",
       "      <th>opening_theme</th>\n",
       "      <th>ending_theme</th>\n",
       "      <th>duration_min</th>\n",
       "      <th>aired_from_year</th>\n",
       "      <th>sourceR</th>\n",
       "    </tr>\n",
       "  </thead>\n",
       "  <tbody>\n",
       "    <tr>\n",
       "      <th>0</th>\n",
       "      <td>11013</td>\n",
       "      <td>Inu x Boku SS</td>\n",
       "      <td>Inu X Boku Secret Service</td>\n",
       "      <td>妖狐×僕SS</td>\n",
       "      <td>Youko x Boku SS</td>\n",
       "      <td>https://myanimelist.cdn-dena.com/images/anime/...</td>\n",
       "      <td>TV</td>\n",
       "      <td>Manga</td>\n",
       "      <td>12</td>\n",
       "      <td>Finished Airing</td>\n",
       "      <td>False</td>\n",
       "      <td>Jan 13, 2012 to Mar 30, 2012</td>\n",
       "      <td>{'from': '2012-01-13', 'to': '2012-03-30'}</td>\n",
       "      <td>24 min. per ep.</td>\n",
       "      <td>PG-13 - Teens 13 or older</td>\n",
       "      <td>7.63</td>\n",
       "      <td>139250</td>\n",
       "      <td>1274.0</td>\n",
       "      <td>231</td>\n",
       "      <td>283882</td>\n",
       "      <td>2809</td>\n",
       "      <td>Inu x Boku SS was licensed by Sentai Filmworks...</td>\n",
       "      <td>Winter 2012</td>\n",
       "      <td>Fridays at Unknown</td>\n",
       "      <td>{'Adaptation': [{'mal_id': 17207, 'type': 'man...</td>\n",
       "      <td>Aniplex, Square Enix, Mainichi Broadcasting Sy...</td>\n",
       "      <td>Sentai Filmworks</td>\n",
       "      <td>David Production</td>\n",
       "      <td>Comedy, Supernatural, Romance, Shounen</td>\n",
       "      <td>['\"Nirvana\" by MUCC']</td>\n",
       "      <td>['#1: \"Nirvana\" by MUCC (eps 1, 11-12)', '#2: ...</td>\n",
       "      <td>24.0</td>\n",
       "      <td>2012</td>\n",
       "      <td>Manga</td>\n",
       "    </tr>\n",
       "    <tr>\n",
       "      <th>1</th>\n",
       "      <td>2104</td>\n",
       "      <td>Seto no Hanayome</td>\n",
       "      <td>My Bride is a Mermaid</td>\n",
       "      <td>瀬戸の花嫁</td>\n",
       "      <td>The Inland Sea Bride</td>\n",
       "      <td>https://myanimelist.cdn-dena.com/images/anime/...</td>\n",
       "      <td>TV</td>\n",
       "      <td>Manga</td>\n",
       "      <td>26</td>\n",
       "      <td>Finished Airing</td>\n",
       "      <td>False</td>\n",
       "      <td>Apr 2, 2007 to Oct 1, 2007</td>\n",
       "      <td>{'from': '2007-04-02', 'to': '2007-10-01'}</td>\n",
       "      <td>24 min. per ep.</td>\n",
       "      <td>PG-13 - Teens 13 or older</td>\n",
       "      <td>7.89</td>\n",
       "      <td>91206</td>\n",
       "      <td>727.0</td>\n",
       "      <td>366</td>\n",
       "      <td>204003</td>\n",
       "      <td>2579</td>\n",
       "      <td>NaN</td>\n",
       "      <td>Spring 2007</td>\n",
       "      <td>Unknown</td>\n",
       "      <td>{'Adaptation': [{'mal_id': 759, 'type': 'manga...</td>\n",
       "      <td>TV Tokyo, AIC, Square Enix, Sotsu</td>\n",
       "      <td>Funimation</td>\n",
       "      <td>Gonzo</td>\n",
       "      <td>Comedy, Parody, Romance, School, Shounen</td>\n",
       "      <td>['\"Romantic summer\" by SUN&amp;LUNAR']</td>\n",
       "      <td>['#1: \"Ashita e no Hikari (明日への光)\" by Asuka Hi...</td>\n",
       "      <td>24.0</td>\n",
       "      <td>2007</td>\n",
       "      <td>Manga</td>\n",
       "    </tr>\n",
       "  </tbody>\n",
       "</table>\n",
       "</div>"
      ],
      "text/plain": [
       "   anime_id             title              title_english title_japanese  \\\n",
       "0     11013     Inu x Boku SS  Inu X Boku Secret Service         妖狐×僕SS   \n",
       "1      2104  Seto no Hanayome      My Bride is a Mermaid          瀬戸の花嫁   \n",
       "\n",
       "         title_synonyms                                          image_url  \\\n",
       "0       Youko x Boku SS  https://myanimelist.cdn-dena.com/images/anime/...   \n",
       "1  The Inland Sea Bride  https://myanimelist.cdn-dena.com/images/anime/...   \n",
       "\n",
       "  type source  episodes           status  airing  \\\n",
       "0   TV  Manga        12  Finished Airing   False   \n",
       "1   TV  Manga        26  Finished Airing   False   \n",
       "\n",
       "                   aired_string                                       aired  \\\n",
       "0  Jan 13, 2012 to Mar 30, 2012  {'from': '2012-01-13', 'to': '2012-03-30'}   \n",
       "1    Apr 2, 2007 to Oct 1, 2007  {'from': '2007-04-02', 'to': '2007-10-01'}   \n",
       "\n",
       "          duration                     rating  score  scored_by    rank  \\\n",
       "0  24 min. per ep.  PG-13 - Teens 13 or older   7.63     139250  1274.0   \n",
       "1  24 min. per ep.  PG-13 - Teens 13 or older   7.89      91206   727.0   \n",
       "\n",
       "   popularity  members  favorites  \\\n",
       "0         231   283882       2809   \n",
       "1         366   204003       2579   \n",
       "\n",
       "                                          background    premiered  \\\n",
       "0  Inu x Boku SS was licensed by Sentai Filmworks...  Winter 2012   \n",
       "1                                                NaN  Spring 2007   \n",
       "\n",
       "            broadcast                                            related  \\\n",
       "0  Fridays at Unknown  {'Adaptation': [{'mal_id': 17207, 'type': 'man...   \n",
       "1             Unknown  {'Adaptation': [{'mal_id': 759, 'type': 'manga...   \n",
       "\n",
       "                                            producer          licensor  \\\n",
       "0  Aniplex, Square Enix, Mainichi Broadcasting Sy...  Sentai Filmworks   \n",
       "1                  TV Tokyo, AIC, Square Enix, Sotsu        Funimation   \n",
       "\n",
       "             studio                                     genre  \\\n",
       "0  David Production    Comedy, Supernatural, Romance, Shounen   \n",
       "1             Gonzo  Comedy, Parody, Romance, School, Shounen   \n",
       "\n",
       "                        opening_theme  \\\n",
       "0               ['\"Nirvana\" by MUCC']   \n",
       "1  ['\"Romantic summer\" by SUN&LUNAR']   \n",
       "\n",
       "                                        ending_theme  duration_min  \\\n",
       "0  ['#1: \"Nirvana\" by MUCC (eps 1, 11-12)', '#2: ...          24.0   \n",
       "1  ['#1: \"Ashita e no Hikari (明日への光)\" by Asuka Hi...          24.0   \n",
       "\n",
       "   aired_from_year sourceR  \n",
       "0             2012   Manga  \n",
       "1             2007   Manga  "
      ]
     },
     "execution_count": 20,
     "metadata": {},
     "output_type": "execute_result"
    }
   ],
   "source": [
    "anime.head(2)"
   ]
  },
  {
   "cell_type": "markdown",
   "id": "86ca8df5-28a8-4828-907a-d25f46777191",
   "metadata": {},
   "source": [
    "## Make a contingency table"
   ]
  },
  {
   "cell_type": "code",
   "execution_count": 21,
   "id": "0884b664-358d-4f91-96ee-6d31713266e5",
   "metadata": {},
   "outputs": [],
   "source": [
    "anime_crosstab = pd.crosstab(anime['sourceR'], anime['type'])"
   ]
  },
  {
   "cell_type": "code",
   "execution_count": 22,
   "id": "28835dd6-57e5-4d72-b657-4d8ac7826d62",
   "metadata": {},
   "outputs": [
    {
     "data": {
      "text/html": [
       "<div>\n",
       "<style scoped>\n",
       "    .dataframe tbody tr th:only-of-type {\n",
       "        vertical-align: middle;\n",
       "    }\n",
       "\n",
       "    .dataframe tbody tr th {\n",
       "        vertical-align: top;\n",
       "    }\n",
       "\n",
       "    .dataframe thead th {\n",
       "        text-align: right;\n",
       "    }\n",
       "</style>\n",
       "<table border=\"1\" class=\"dataframe\">\n",
       "  <thead>\n",
       "    <tr style=\"text-align: right;\">\n",
       "      <th>type</th>\n",
       "      <th>Movie</th>\n",
       "      <th>Music</th>\n",
       "      <th>ONA</th>\n",
       "      <th>OVA</th>\n",
       "      <th>Special</th>\n",
       "      <th>TV</th>\n",
       "    </tr>\n",
       "    <tr>\n",
       "      <th>sourceR</th>\n",
       "      <th></th>\n",
       "      <th></th>\n",
       "      <th></th>\n",
       "      <th></th>\n",
       "      <th></th>\n",
       "      <th></th>\n",
       "    </tr>\n",
       "  </thead>\n",
       "  <tbody>\n",
       "    <tr>\n",
       "      <th>Book</th>\n",
       "      <td>163</td>\n",
       "      <td>2</td>\n",
       "      <td>62</td>\n",
       "      <td>389</td>\n",
       "      <td>174</td>\n",
       "      <td>584</td>\n",
       "    </tr>\n",
       "    <tr>\n",
       "      <th>Game</th>\n",
       "      <td>83</td>\n",
       "      <td>9</td>\n",
       "      <td>39</td>\n",
       "      <td>57</td>\n",
       "      <td>72</td>\n",
       "      <td>210</td>\n",
       "    </tr>\n",
       "    <tr>\n",
       "      <th>Listening</th>\n",
       "      <td>2</td>\n",
       "      <td>42</td>\n",
       "      <td>0</td>\n",
       "      <td>1</td>\n",
       "      <td>1</td>\n",
       "      <td>14</td>\n",
       "    </tr>\n",
       "    <tr>\n",
       "      <th>Manga</th>\n",
       "      <td>333</td>\n",
       "      <td>12</td>\n",
       "      <td>93</td>\n",
       "      <td>609</td>\n",
       "      <td>376</td>\n",
       "      <td>1271</td>\n",
       "    </tr>\n",
       "    <tr>\n",
       "      <th>Other</th>\n",
       "      <td>325</td>\n",
       "      <td>33</td>\n",
       "      <td>185</td>\n",
       "      <td>283</td>\n",
       "      <td>289</td>\n",
       "      <td>844</td>\n",
       "    </tr>\n",
       "  </tbody>\n",
       "</table>\n",
       "</div>"
      ],
      "text/plain": [
       "type       Movie  Music  ONA  OVA  Special    TV\n",
       "sourceR                                         \n",
       "Book         163      2   62  389      174   584\n",
       "Game          83      9   39   57       72   210\n",
       "Listening      2     42    0    1        1    14\n",
       "Manga        333     12   93  609      376  1271\n",
       "Other        325     33  185  283      289   844"
      ]
     },
     "execution_count": 22,
     "metadata": {},
     "output_type": "execute_result"
    }
   ],
   "source": [
    "anime_crosstab"
   ]
  },
  {
   "cell_type": "markdown",
   "id": "f7ce81a9-4908-407b-9a08-346ea5eaa7f5",
   "metadata": {},
   "source": [
    "# Run an Independent chi-square "
   ]
  },
  {
   "cell_type": "code",
   "execution_count": 23,
   "id": "7a3dffdb-e828-4443-b3c5-902661ab67c0",
   "metadata": {},
   "outputs": [
    {
     "data": {
      "text/plain": [
       "(2164.1608183289673,\n",
       " 0.0,\n",
       " 20,\n",
       " array([[1.89849626e+02, 2.05356108e+01, 7.94183316e+01, 2.80583499e+02,\n",
       "         1.91106909e+02, 6.12506024e+02],\n",
       "        [6.49412841e+01, 7.02455391e+00, 2.71663871e+01, 9.59783438e+01,\n",
       "         6.53713589e+01, 2.09518072e+02],\n",
       "        [8.29037670e+00, 8.96751563e-01, 3.46804941e+00, 1.22525545e+01,\n",
       "         8.34527985e+00, 2.67469880e+01],\n",
       "        [3.72237914e+02, 4.02641452e+01, 1.55715419e+02, 5.50139698e+02,\n",
       "         3.74703065e+02, 1.20093976e+03],\n",
       "        [2.70680799e+02, 2.92789385e+01, 1.13231813e+02, 4.00045905e+02,\n",
       "         2.72473387e+02, 8.73289157e+02]]))"
      ]
     },
     "execution_count": 23,
     "metadata": {},
     "output_type": "execute_result"
    }
   ],
   "source": [
    "stats.chi2_contingency(anime_crosstab)"
   ]
  },
  {
   "cell_type": "markdown",
   "id": "68f998fc-caa5-4727-89cd-20d2c623f677",
   "metadata": {},
   "source": [
    "# How do the Variables about Popularity / Ranking Relate to Each Other?"
   ]
  },
  {
   "cell_type": "code",
   "execution_count": 24,
   "id": "cdf79829-4df3-48d9-ade8-e70bb9f893d5",
   "metadata": {},
   "outputs": [],
   "source": [
    "anime2 = anime[['score', 'scored_by', 'rank', 'popularity', 'members', 'favorites']]"
   ]
  },
  {
   "cell_type": "markdown",
   "id": "b6b162c8-b11f-4645-890d-1771d26f50be",
   "metadata": {},
   "source": [
    "## View my Data"
   ]
  },
  {
   "cell_type": "code",
   "execution_count": 25,
   "id": "a417eca2-94fa-4365-b1f4-7c75b9f03dc8",
   "metadata": {},
   "outputs": [
    {
     "data": {
      "text/html": [
       "<div>\n",
       "<style scoped>\n",
       "    .dataframe tbody tr th:only-of-type {\n",
       "        vertical-align: middle;\n",
       "    }\n",
       "\n",
       "    .dataframe tbody tr th {\n",
       "        vertical-align: top;\n",
       "    }\n",
       "\n",
       "    .dataframe thead th {\n",
       "        text-align: right;\n",
       "    }\n",
       "</style>\n",
       "<table border=\"1\" class=\"dataframe\">\n",
       "  <thead>\n",
       "    <tr style=\"text-align: right;\">\n",
       "      <th></th>\n",
       "      <th>score</th>\n",
       "      <th>scored_by</th>\n",
       "      <th>rank</th>\n",
       "      <th>popularity</th>\n",
       "      <th>members</th>\n",
       "      <th>favorites</th>\n",
       "    </tr>\n",
       "  </thead>\n",
       "  <tbody>\n",
       "    <tr>\n",
       "      <th>0</th>\n",
       "      <td>7.63</td>\n",
       "      <td>139250</td>\n",
       "      <td>1274.0</td>\n",
       "      <td>231</td>\n",
       "      <td>283882</td>\n",
       "      <td>2809</td>\n",
       "    </tr>\n",
       "    <tr>\n",
       "      <th>1</th>\n",
       "      <td>7.89</td>\n",
       "      <td>91206</td>\n",
       "      <td>727.0</td>\n",
       "      <td>366</td>\n",
       "      <td>204003</td>\n",
       "      <td>2579</td>\n",
       "    </tr>\n",
       "  </tbody>\n",
       "</table>\n",
       "</div>"
      ],
      "text/plain": [
       "   score  scored_by    rank  popularity  members  favorites\n",
       "0   7.63     139250  1274.0         231   283882       2809\n",
       "1   7.89      91206   727.0         366   204003       2579"
      ]
     },
     "execution_count": 25,
     "metadata": {},
     "output_type": "execute_result"
    }
   ],
   "source": [
    "anime2.head(2)"
   ]
  },
  {
   "cell_type": "markdown",
   "id": "208a3888-e5e5-4dcf-80ba-8463a29c1f7d",
   "metadata": {},
   "source": [
    "# Correlation Time"
   ]
  },
  {
   "cell_type": "code",
   "execution_count": 26,
   "id": "2e9887ed-910f-48c5-a11a-7e0a1157f26c",
   "metadata": {},
   "outputs": [
    {
     "data": {
      "text/html": [
       "<style type=\"text/css\">\n",
       "#T_537c3_row0_col0, #T_537c3_row1_col1, #T_537c3_row2_col2, #T_537c3_row3_col3, #T_537c3_row4_col4, #T_537c3_row5_col5 {\n",
       "  background-color: #b40426;\n",
       "  color: #f1f1f1;\n",
       "}\n",
       "#T_537c3_row0_col1 {\n",
       "  background-color: #f7b599;\n",
       "  color: #000000;\n",
       "}\n",
       "#T_537c3_row0_col2, #T_537c3_row1_col3, #T_537c3_row2_col0, #T_537c3_row3_col0, #T_537c3_row4_col3, #T_537c3_row5_col2, #T_537c3_row5_col3 {\n",
       "  background-color: #3b4cc0;\n",
       "  color: #f1f1f1;\n",
       "}\n",
       "#T_537c3_row0_col3 {\n",
       "  background-color: #5d7ce6;\n",
       "  color: #f1f1f1;\n",
       "}\n",
       "#T_537c3_row0_col4 {\n",
       "  background-color: #f7af91;\n",
       "  color: #000000;\n",
       "}\n",
       "#T_537c3_row0_col5 {\n",
       "  background-color: #f2c9b4;\n",
       "  color: #000000;\n",
       "}\n",
       "#T_537c3_row1_col0 {\n",
       "  background-color: #edd2c3;\n",
       "  color: #000000;\n",
       "}\n",
       "#T_537c3_row1_col2 {\n",
       "  background-color: #4961d2;\n",
       "  color: #f1f1f1;\n",
       "}\n",
       "#T_537c3_row1_col4, #T_537c3_row4_col1 {\n",
       "  background-color: #b70d28;\n",
       "  color: #f1f1f1;\n",
       "}\n",
       "#T_537c3_row1_col5 {\n",
       "  background-color: #e26952;\n",
       "  color: #f1f1f1;\n",
       "}\n",
       "#T_537c3_row2_col1 {\n",
       "  background-color: #9abbff;\n",
       "  color: #000000;\n",
       "}\n",
       "#T_537c3_row2_col3 {\n",
       "  background-color: #dc5d4a;\n",
       "  color: #f1f1f1;\n",
       "}\n",
       "#T_537c3_row2_col4 {\n",
       "  background-color: #93b5fe;\n",
       "  color: #000000;\n",
       "}\n",
       "#T_537c3_row2_col5 {\n",
       "  background-color: #b5cdfa;\n",
       "  color: #000000;\n",
       "}\n",
       "#T_537c3_row3_col1 {\n",
       "  background-color: #6b8df0;\n",
       "  color: #f1f1f1;\n",
       "}\n",
       "#T_537c3_row3_col2 {\n",
       "  background-color: #df634e;\n",
       "  color: #f1f1f1;\n",
       "}\n",
       "#T_537c3_row3_col4 {\n",
       "  background-color: #6282ea;\n",
       "  color: #f1f1f1;\n",
       "}\n",
       "#T_537c3_row3_col5 {\n",
       "  background-color: #98b9ff;\n",
       "  color: #000000;\n",
       "}\n",
       "#T_537c3_row4_col0 {\n",
       "  background-color: #f2cab5;\n",
       "  color: #000000;\n",
       "}\n",
       "#T_537c3_row4_col2 {\n",
       "  background-color: #4b64d5;\n",
       "  color: #f1f1f1;\n",
       "}\n",
       "#T_537c3_row4_col5 {\n",
       "  background-color: #e36b54;\n",
       "  color: #f1f1f1;\n",
       "}\n",
       "#T_537c3_row5_col0 {\n",
       "  background-color: #bbd1f8;\n",
       "  color: #000000;\n",
       "}\n",
       "#T_537c3_row5_col1 {\n",
       "  background-color: #e8765c;\n",
       "  color: #f1f1f1;\n",
       "}\n",
       "#T_537c3_row5_col4 {\n",
       "  background-color: #ea7b60;\n",
       "  color: #f1f1f1;\n",
       "}\n",
       "</style>\n",
       "<table id=\"T_537c3\">\n",
       "  <thead>\n",
       "    <tr>\n",
       "      <th class=\"blank level0\" >&nbsp;</th>\n",
       "      <th id=\"T_537c3_level0_col0\" class=\"col_heading level0 col0\" >score</th>\n",
       "      <th id=\"T_537c3_level0_col1\" class=\"col_heading level0 col1\" >scored_by</th>\n",
       "      <th id=\"T_537c3_level0_col2\" class=\"col_heading level0 col2\" >rank</th>\n",
       "      <th id=\"T_537c3_level0_col3\" class=\"col_heading level0 col3\" >popularity</th>\n",
       "      <th id=\"T_537c3_level0_col4\" class=\"col_heading level0 col4\" >members</th>\n",
       "      <th id=\"T_537c3_level0_col5\" class=\"col_heading level0 col5\" >favorites</th>\n",
       "    </tr>\n",
       "  </thead>\n",
       "  <tbody>\n",
       "    <tr>\n",
       "      <th id=\"T_537c3_level0_row0\" class=\"row_heading level0 row0\" >score</th>\n",
       "      <td id=\"T_537c3_row0_col0\" class=\"data row0 col0\" >1.0</td>\n",
       "      <td id=\"T_537c3_row0_col1\" class=\"data row0 col1\" >0.38</td>\n",
       "      <td id=\"T_537c3_row0_col2\" class=\"data row0 col2\" >-0.9</td>\n",
       "      <td id=\"T_537c3_row0_col3\" class=\"data row0 col3\" >-0.69</td>\n",
       "      <td id=\"T_537c3_row0_col4\" class=\"data row0 col4\" >0.42</td>\n",
       "      <td id=\"T_537c3_row0_col5\" class=\"data row0 col5\" >0.26</td>\n",
       "    </tr>\n",
       "    <tr>\n",
       "      <th id=\"T_537c3_level0_row1\" class=\"row_heading level0 row1\" >scored_by</th>\n",
       "      <td id=\"T_537c3_row1_col0\" class=\"data row1 col0\" >0.38</td>\n",
       "      <td id=\"T_537c3_row1_col1\" class=\"data row1 col1\" >1.0</td>\n",
       "      <td id=\"T_537c3_row1_col2\" class=\"data row1 col2\" >-0.36</td>\n",
       "      <td id=\"T_537c3_row1_col3\" class=\"data row1 col3\" >-0.43</td>\n",
       "      <td id=\"T_537c3_row1_col4\" class=\"data row1 col4\" >0.99</td>\n",
       "      <td id=\"T_537c3_row1_col5\" class=\"data row1 col5\" >0.79</td>\n",
       "    </tr>\n",
       "    <tr>\n",
       "      <th id=\"T_537c3_level0_row2\" class=\"row_heading level0 row2\" >rank</th>\n",
       "      <td id=\"T_537c3_row2_col0\" class=\"data row2 col0\" >-0.9</td>\n",
       "      <td id=\"T_537c3_row2_col1\" class=\"data row2 col1\" >-0.36</td>\n",
       "      <td id=\"T_537c3_row2_col2\" class=\"data row2 col2\" >1.0</td>\n",
       "      <td id=\"T_537c3_row2_col3\" class=\"data row2 col3\" >0.78</td>\n",
       "      <td id=\"T_537c3_row2_col4\" class=\"data row2 col4\" >-0.39</td>\n",
       "      <td id=\"T_537c3_row2_col5\" class=\"data row2 col5\" >-0.21</td>\n",
       "    </tr>\n",
       "    <tr>\n",
       "      <th id=\"T_537c3_level0_row3\" class=\"row_heading level0 row3\" >popularity</th>\n",
       "      <td id=\"T_537c3_row3_col0\" class=\"data row3 col0\" >-0.69</td>\n",
       "      <td id=\"T_537c3_row3_col1\" class=\"data row3 col1\" >-0.43</td>\n",
       "      <td id=\"T_537c3_row3_col2\" class=\"data row3 col2\" >0.78</td>\n",
       "      <td id=\"T_537c3_row3_col3\" class=\"data row3 col3\" >1.0</td>\n",
       "      <td id=\"T_537c3_row3_col4\" class=\"data row3 col4\" >-0.47</td>\n",
       "      <td id=\"T_537c3_row3_col5\" class=\"data row3 col5\" >-0.21</td>\n",
       "    </tr>\n",
       "    <tr>\n",
       "      <th id=\"T_537c3_level0_row4\" class=\"row_heading level0 row4\" >members</th>\n",
       "      <td id=\"T_537c3_row4_col0\" class=\"data row4 col0\" >0.42</td>\n",
       "      <td id=\"T_537c3_row4_col1\" class=\"data row4 col1\" >0.99</td>\n",
       "      <td id=\"T_537c3_row4_col2\" class=\"data row4 col2\" >-0.39</td>\n",
       "      <td id=\"T_537c3_row4_col3\" class=\"data row4 col3\" >-0.47</td>\n",
       "      <td id=\"T_537c3_row4_col4\" class=\"data row4 col4\" >1.0</td>\n",
       "      <td id=\"T_537c3_row4_col5\" class=\"data row4 col5\" >0.78</td>\n",
       "    </tr>\n",
       "    <tr>\n",
       "      <th id=\"T_537c3_level0_row5\" class=\"row_heading level0 row5\" >favorites</th>\n",
       "      <td id=\"T_537c3_row5_col0\" class=\"data row5 col0\" >0.26</td>\n",
       "      <td id=\"T_537c3_row5_col1\" class=\"data row5 col1\" >0.79</td>\n",
       "      <td id=\"T_537c3_row5_col2\" class=\"data row5 col2\" >-0.21</td>\n",
       "      <td id=\"T_537c3_row5_col3\" class=\"data row5 col3\" >-0.21</td>\n",
       "      <td id=\"T_537c3_row5_col4\" class=\"data row5 col4\" >0.78</td>\n",
       "      <td id=\"T_537c3_row5_col5\" class=\"data row5 col5\" >1.0</td>\n",
       "    </tr>\n",
       "  </tbody>\n",
       "</table>\n"
      ],
      "text/plain": [
       "<pandas.io.formats.style.Styler at 0x131ad3970>"
      ]
     },
     "execution_count": 26,
     "metadata": {},
     "output_type": "execute_result"
    }
   ],
   "source": [
    "anime2.corr(method='pearson').style.format(\"{:.2}\").background_gradient(cmap=plt.get_cmap('coolwarm'), axis=1)"
   ]
  },
  {
   "cell_type": "code",
   "execution_count": null,
   "id": "b3eb3bec-a1f7-4fad-8c3a-cfa0992e6830",
   "metadata": {},
   "outputs": [],
   "source": []
  }
 ],
 "metadata": {
  "kernelspec": {
   "display_name": "Python 3.9.5 64-bit",
   "language": "python",
   "name": "python3"
  },
  "language_info": {
   "codemirror_mode": {
    "name": "ipython",
    "version": 3
   },
   "file_extension": ".py",
   "mimetype": "text/x-python",
   "name": "python",
   "nbconvert_exporter": "python",
   "pygments_lexer": "ipython3",
   "version": "3.9.5"
  },
  "vscode": {
   "interpreter": {
    "hash": "aee8b7b246df8f9039afb4144a1f6fd8d2ca17a180786b69acc140d282b71a49"
   }
  }
 },
 "nbformat": 4,
 "nbformat_minor": 5
}
